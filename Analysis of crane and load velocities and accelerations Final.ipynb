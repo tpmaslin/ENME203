{
 "cells": [
  {
   "cell_type": "markdown",
   "metadata": {
    "slideshow": {
     "slide_type": "slide"
    }
   },
   "source": [
    "# Analysis of crane and load velocities and accelerations"
   ]
  },
  {
   "cell_type": "code",
   "execution_count": 1,
   "metadata": {
    "slideshow": {
     "slide_type": "skip"
    }
   },
   "outputs": [],
   "source": [
    "#set up code for notebook, importing relevant modules\n",
    "\n",
    "%matplotlib inline\n",
    "import numpy as np\n",
    "import matplotlib.pyplot as plt\n",
    "from scipy import integrate\n",
    "from ipywidgets import interact, fixed"
   ]
  },
  {
   "cell_type": "code",
   "execution_count": 2,
   "metadata": {
    "slideshow": {
     "slide_type": "skip"
    }
   },
   "outputs": [],
   "source": [
    "distance = 10.0 # [m]\n",
    "g = 9.81 # [m/s^2]\n",
    "length = 3.0 # [m]\n",
    "mass = 500.0 #[kg]\n",
    "\n",
    "upperOmega = 6.0\n",
    "lowerOmega = 1.0\n",
    "omega = 2.1"
   ]
  },
  {
   "cell_type": "code",
   "execution_count": 3,
   "metadata": {
    "slideshow": {
     "slide_type": "skip"
    }
   },
   "outputs": [],
   "source": [
    "def plotInputFunc(omega=2.1):\n",
    "    \"\"\"plot the input function and vary omega\"\"\"\n",
    "    t = np.linspace(0.0, np.pi/lowerOmega, 100)\n",
    "    x = distance/2.0*(1.0-np.cos(omega*t))\n",
    "    fig, axes = plt.subplots(figsize=(16,5))\n",
    "    axes.plot(t,x)\n",
    "    plt.axvline(x=np.pi/omega)\n",
    "    plt.show()\n",
    "    return\n",
    "\n",
    "#interact(plotInputFunc, omega=(lowerOmega,upperOmega,0.1));"
   ]
  },
  {
   "cell_type": "code",
   "execution_count": 6,
   "metadata": {
    "scrolled": false,
    "slideshow": {
     "slide_type": "skip"
    }
   },
   "outputs": [],
   "source": [
    "lowerOmega = 1.5\n",
    "upperOmega = 3.6\n",
    "lowerLength = 0.5\n",
    "upperLength = 10\n",
    "lowerDistance = 0.5\n",
    "upperDistance = 10\n",
    "lowerMass = 0\n",
    "upperMass = 1000\n",
    "\n",
    "def plotRotationalChar(omega=2.1, length=3, distance=10, mass=500):\n",
    "    #find the rotational characteristics of motion phi, phiDot and phiDotDot before point B  \n",
    "    #initialise parameters\n",
    "\n",
    "    timeBeforeB = np.linspace(0.0,np.pi/lowerOmega,100)\n",
    "    t0, t1 = 0, np.pi/lowerOmega\n",
    "    t = timeBeforeB\n",
    "    phiInit = [0,0]\n",
    "    phi = np.zeros((len(t), len(phiInit)))\n",
    "    phi[0,:] = phiInit\n",
    "    xDotDot = omega**2 * distance/2 *np.cos(omega*t)\n",
    "    \n",
    "    def odeBeforeB(t,phi):\n",
    "    #calculate phi values for use in the ODE45 equivalent before the crane reaches B\n",
    "        xDotDot = omega**2 * distance/2 * np.cos(omega*t)\n",
    "        return [phi[1], (-g * phi[0] - xDotDot)/length]\n",
    "    \n",
    "    r = integrate.ode(odeBeforeB).set_integrator(\"dopri5\")\n",
    "    r.set_initial_value(phiInit, t0)\n",
    "    \n",
    "    for i in range(1, t.size):\n",
    "        phi[i, :] = r.integrate(t[i])\n",
    "        if not r.successful():\n",
    "           raise RuntimeError(\"Could not integrate\")\n",
    "\n",
    "    phiDotDot = (-g * phi[:,0] - xDotDot)/length\n",
    "    \n",
    "    #plot the rotational characteristics of motion phi, phiDot and phiDotDot before point B\n",
    "    fig, axes = plt.subplots(figsize=(12,8))\n",
    "    axes.plot(t, phi[:,0], 'c', t, phi[:,1], 'm', t, phiDotDot, 'b')\n",
    "    plt.axvline(x=np.pi/omega)\n",
    "    plt.axvline(x=0)\n",
    "    plt.axhline(y=50)\n",
    "    plt.axhline(y=-50)\n",
    "    plt.legend(['phi','phiDot','phiDotDot'])\n",
    "    plt.show()\n",
    "    return\n",
    "\n",
    "def plotChar():\n",
    "    interact(plotRotationalChar, omega=(lowerOmega,upperOmega,0.1), length=(lowerLength, upperLength,0.1), distance=(lowerDistance,upperDistance,0.1), mass=(lowerMass,upperMass,0.1), continuous_update=False);\n",
    "    return "
   ]
  },
  {
   "cell_type": "markdown",
   "metadata": {
    "slideshow": {
     "slide_type": "slide"
    }
   },
   "source": [
    "#  Plotting some stuff"
   ]
  },
  {
   "cell_type": "code",
   "execution_count": 7,
   "metadata": {
    "slideshow": {
     "slide_type": "subslide"
    }
   },
   "outputs": [
    {
     "data": {
      "application/vnd.jupyter.widget-view+json": {
       "model_id": "969c98db35f24556901f898de03c2709",
       "version_major": 2,
       "version_minor": 0
      },
      "text/html": [
       "<p>Failed to display Jupyter Widget of type <code>interactive</code>.</p>\n",
       "<p>\n",
       "  If you're reading this message in the Jupyter Notebook or JupyterLab Notebook, it may mean\n",
       "  that the widgets JavaScript is still loading. If this message persists, it\n",
       "  likely means that the widgets JavaScript library is either not installed or\n",
       "  not enabled. See the <a href=\"https://ipywidgets.readthedocs.io/en/stable/user_install.html\">Jupyter\n",
       "  Widgets Documentation</a> for setup instructions.\n",
       "</p>\n",
       "<p>\n",
       "  If you're reading this message in another frontend (for example, a static\n",
       "  rendering on GitHub or <a href=\"https://nbviewer.jupyter.org/\">NBViewer</a>),\n",
       "  it may mean that your frontend doesn't currently support widgets.\n",
       "</p>\n"
      ],
      "text/plain": [
       "interactive(children=(FloatSlider(value=2.1, description='omega', max=3.6, min=1.5), FloatSlider(value=3.0, description='length', max=10.0, min=0.5), FloatSlider(value=10.0, description='distance', max=10.0, min=0.5), FloatSlider(value=500.0, description='mass', max=1000.0), Output()), _dom_classes=('widget-interact',))"
      ]
     },
     "metadata": {},
     "output_type": "display_data"
    }
   ],
   "source": [
    "plotChar()"
   ]
  },
  {
   "cell_type": "code",
   "execution_count": null,
   "metadata": {},
   "outputs": [],
   "source": []
  }
 ],
 "metadata": {
  "celltoolbar": "Slideshow",
  "kernelspec": {
   "display_name": "Python 3",
   "language": "python",
   "name": "python3"
  },
  "language_info": {
   "codemirror_mode": {
    "name": "ipython",
    "version": 3
   },
   "file_extension": ".py",
   "mimetype": "text/x-python",
   "name": "python",
   "nbconvert_exporter": "python",
   "pygments_lexer": "ipython3",
   "version": "3.6.4"
  },
  "widgets": {
   "application/vnd.jupyter.widget-state+json": {
    "state": {
     "00eb5179426841ec81bc30cae65007c1": {
      "model_module": "@jupyter-widgets/base",
      "model_module_version": "1.0.0",
      "model_name": "LayoutModel",
      "state": {}
     },
     "0200724800a74bbfb322e72f998da887": {
      "model_module": "@jupyter-widgets/base",
      "model_module_version": "1.0.0",
      "model_name": "LayoutModel",
      "state": {}
     },
     "034854c45a814fdfa29331930efd78b1": {
      "model_module": "@jupyter-widgets/controls",
      "model_module_version": "1.1.0",
      "model_name": "FloatSliderModel",
      "state": {
       "description": "omega",
       "layout": "IPY_MODEL_09c21be5e7504def9046d0166bb11772",
       "max": 6,
       "min": 1,
       "step": 0.1,
       "style": "IPY_MODEL_8c7dac7d11de4703a68ff20f26d7a209",
       "value": 2.1
      }
     },
     "038bb889b7d540af8b76d3dcd810edd1": {
      "model_module": "@jupyter-widgets/base",
      "model_module_version": "1.0.0",
      "model_name": "LayoutModel",
      "state": {}
     },
     "0667c13cf2994505ba8dc3c5135fe98c": {
      "model_module": "@jupyter-widgets/controls",
      "model_module_version": "1.1.0",
      "model_name": "SliderStyleModel",
      "state": {
       "description_width": ""
      }
     },
     "09c21be5e7504def9046d0166bb11772": {
      "model_module": "@jupyter-widgets/base",
      "model_module_version": "1.0.0",
      "model_name": "LayoutModel",
      "state": {}
     },
     "0af2128085814d25ac3dd239060db80a": {
      "model_module": "@jupyter-widgets/controls",
      "model_module_version": "1.1.0",
      "model_name": "FloatSliderModel",
      "state": {
       "description": "length",
       "layout": "IPY_MODEL_c7c6ec51cc314934a4f7641746f4f347",
       "max": 10,
       "min": 0.5,
       "step": 0.1,
       "style": "IPY_MODEL_255d242f2117475eb794846385feb34d",
       "value": 3
      }
     },
     "10016c9959224c57a47c84e6b65fb4ae": {
      "model_module": "@jupyter-widgets/controls",
      "model_module_version": "1.1.0",
      "model_name": "SliderStyleModel",
      "state": {
       "description_width": ""
      }
     },
     "1392709ff3e24931adc52ba1d494381a": {
      "model_module": "@jupyter-widgets/controls",
      "model_module_version": "1.1.0",
      "model_name": "FloatSliderModel",
      "state": {
       "description": "length",
       "layout": "IPY_MODEL_fa2e06a61c9a437dbefbe9120491ee4b",
       "max": 10,
       "min": 0.5,
       "step": 0.1,
       "style": "IPY_MODEL_25650be3d0b044e09e3ee55acefb4e85",
       "value": 3
      }
     },
     "1916f978c53940239c4e965ec6323c41": {
      "model_module": "@jupyter-widgets/output",
      "model_module_version": "1.0.0",
      "model_name": "OutputModel",
      "state": {
       "layout": "IPY_MODEL_d40065a323744f9da74bccbb55333d0f",
       "outputs": [
        {
         "data": {
          "image/png": "iVBORw0KGgoAAAANSUhEUgAAA6IAAAEyCAYAAADgAW3tAAAABHNCSVQICAgIfAhkiAAAAAlwSFlzAAALEgAACxIB0t1+/AAAADl0RVh0U29mdHdhcmUAbWF0cGxvdGxpYiB2ZXJzaW9uIDIuMS4yLCBodHRwOi8vbWF0cGxvdGxpYi5vcmcvNQv5yAAAIABJREFUeJzs3Xd8VfXh//H3yZ4kZJEFBAIkrAwIJAHcAzeiMpWhTMVVO6z+2traYW2tExQCiIMhKgoO3IoyMgh7g2GEQEIGZO+b8/sD2q+1okhCzk3u6/l48HAQyduHAveVc+7nGKZpCgAAAACA1uJk9QAAAAAAgGMhRAEAAAAArYoQBQAAAAC0KkIUAAAAANCqCFEAAAAAQKsiRAEAAAAArYoQBQAAAAC0KkIUAAAAANCqCFEAAAAAQKtyac1PFhQUZEZFRbXmpwQA4JwdLKqSJHUP9rZ4CQAAbdOmTZuKTdMM/qmPa9UQjYqKUnZ2dmt+SgAAztmYeemSpOUzUi1eAgBA22QYxpFz+ThuzQUAAAAAtCpCFAAAAADQqghRAAAAAECrIkQBAAAAAK2KEAUAAAAAtCpCFAAAAADQqghRAAAAAECr+skQNQzjZcMwCg3D2PmdvxdgGMZnhmEcOPPHjhd2JgAAAACgvTiXK6KvSLrme3/vt5K+ME2zp6Qvzvw1AAAAAAA/yeWnPsA0zW8Mw4j63t8eIenSM3/+qqQ1kh5uwV0AALSomnqbKusaVVNvU3VDo6rrbaf/vN6m6vpG1TbYVFRRJ8OQPtyeL1dnQ64uTnJzdpKbi5NcnZ3k6+GiIB93dfBwkWEYVv8rAQDQZv1kiJ5FJ9M08yXJNM18wzBCzvaBhmFMlzRdkrp06XKenw4AgLOra7TpSEm18stqlV9ao/yyWhWU1Sq/vFYFZaf/uqK28Zx/vFlLN//o97s5OynIx03Bvu4K8jnzzddNYX6eig72UXSIt4J93IlVAADO4nxD9JyZppkmKU2SkpKSzAv9+QAA7VdTk6m8UzXaW1CufQUV2nuiQvsKKnSouEq2pv/7LcYwpCAfd4X5eSgq0Fup3QMV0sFDvh4u8nR1lpebi7zcnOXp5iyvM988XJ1179ItMk1T/7gtXg22JtXbmtTQ2KQGm6l6m03lNY0qrqxTUUWdiirrVFxZr/yyWu04VqaSqvr/2uDr4XI6SoN91CPER9HB3urZyVdRgV4EKgDA4Z1viJ4wDCPszNXQMEmFLTkKAABJKqyo1cZDp5R1qETb8sq0/0SFqutt//n+zgGeig3toGv7hapHiI8i/D0V6uehEF8Pubn8/IPh3c/8MzGhvj/7n21qMlVQXqucokrlFFYqp6hKOUWVWnugSCs25/3n4/y9XJXY2V8DunTUgK4dFd/ZXz7uF/zrwgAA2JXz/Z3vPUmTJP39zB9XtdgiAIBDMs3TVzuzDp1U1qGT2nj4pA4WV0mSPF2dFRfpp9FJnRUT6quYUF/16uRrVwHn5GQo3N9T4f6euqhn8H99X3ltgw4WVWlPfrm25J7S5txSfbWv6PQ/Z0i9OvlqQNeOGtilo4b1DFKnDh5W/CsAANBqfvJ3cMMwlun0wURBhmHkSXpMpwP0TcMwpkjKlTTqQo4EALRPVXWNWnugSJ/tLlR6TrGOl9VKkjp4uGhwtwCNGdRZg7sFqF+En1yd2+6jrzt4uCqhs78SOvtr3ODT5yWUVTdoy9HTUbol95Te23pcSzNzJUl9wjrosthgXRYTooTO/nJpw//uAAD8kHM5NXfcWb7rihbeAgBwACfKa/X5nhP6fPcJrc8pUX1jk/w8XTWsR5Bmdg/QoKgAxXTylZNT+34fpZ+Xqy6NCdGlMafP+7M1mdpbUK6v9xdpzd4izf36oOZ8lSM/T1dd1DNIl8WE6JKYYAX5uFu8HACA5rOfe5oAAO3WvoIKfbqrQJ/tOaHteWWSpC4BXpqQ0lVX9emkpK4dHf6qn7OTob7hfuob7qd7Lu2hspoGrTtQrK/2FWrNviJ9sD1fkjQ4KkA3JYTruv5hCvB2s3g1AADnhxAFAFwQRRV1WrX1mFZsPqY9+eUyDCmhs79+PTxGV/fppB4hPpwe+yP8PF11fVyYro8LU1OTqd355fpiT6He335cv1u5U398b5cu6hmkEQkRuqpPJ3nb0ftlAQD4KfyuBQBoMbUNNn2+54RWbMrTNweKZWsyFR/ppz/d1FfX9g9ViC+H8JwPJydD/SL81C/CT/df0UN78iu0atsxvb/1uB5cvlUerk66qk+oRsSH6+Jewed1YjAAAK2JEAUANItpmtp05JRWbM7TB9vzVVHbqDA/D824uLtuGRChHiE//1EoODvDMNQnvIP6hHfQw8NjlX3klN7bdkwfbs/X+9uOK8jHTWMGddb45K6K8Pe0ei4AAD+IEAUAnJfaBptWbT2mResPa29BhTxdnXVtv1DdOjBSKd0D5dzODxuyB05OhgZ3C9DgbgF67Ma++mZ/kZZlHdVLa3L00pocXR7bSXekdNHFPYPb/eFPAIC2hRAFAPwsx0trtDjjiJZl5epUdYNiQ33191v668b4cN6naCFXZydd0buTrujdSXmnqrUsK1fLNx7V53tOqGugl8YP7qJRSZ054AgAYBd4xQAA+EmmaSr7yCm9sv6wPt5VINM0dXWfUE0eGqXkbgEcOmRnIjt66dfDY/XAFb308a4CLU4/oic+2qt/fbZfN8WHa+Yl3bllGgBgKUIUAHBWtiZTH+7I17yvc7TreLk6eLho6rBuuiOlqzoHeFk9Dz/BzcVJN8WH66b4cO0rqNDrGYf19qY8rdicp6v7dNI9l/ZQfGd/q2cCABwQIQoA+B+Ntia9t+24Zn/1rQ4WValHiI/+NrK/bk4Ml5cbv3W0RTGhvvrLzf310FUxemX9Ib2y4bA+2XVCQ3sE6p5Le2hIdCBXtgEArYZXEwCA/6hvbNK7W/L04pocHSmpVmyor168fYCu6RvKYTftRIC3mx66OkbTL4nW0swjWrD2kG5fkKn4SD/dfWkPXd2nE/+tAQAXHCEKAFBdo01vZudp7pocHSutUf8IP6VNGKgrexMl7ZWPu4umXxytialRemfzMc37JkczF29SzxAf/fLqXhreN5QrpACAC4YQBQAH1mBr0hsbj2rOl9+qoLxWiV389ZeR/XRpr2AixEF4uDprfHIXjU6K1OqdBXr+iwOauXiz4iP99PA1sRrSI8jqiQCAdogQBQAHZJqmPtl1Qv/4eK8OFldpUFRHPTUqXkN78D5BR+XifPpgo+v7h+mdzXl65rP9Gr8gUxf1DNKvh8coLpJDjQAALYcQBQAHs+nISf1t9V5tOnJKPUJ8tGBikq7oHUKAQpLk7GRoVFJn3RgfriWZuZrz1be6afZ6Xd8/TA9d3UvRwT5WTwQAtAOEKAA4iINFlfrHx/v08a4CBfu664lb+mvUwEi5ODtZPQ12yMPVWVOGddPopEgtWHtIC9Ye1Me7CjRqYKQeurqXQnw9rJ4IAGjDCFEAaOeKK+v03OcHtDQrVx4uTnroql6aelE3HsOCc+Lr4apfXNVLE1K7as5X32pxxhF9sD1f91/RQ5OHdJObC1/IAAD8fLwKAYB2qtHWpNczjujpT/erpsGm8YO76P4reirY193qaWiDgnzc9diNfTUxNUp/+WC3/rZ6r97IOqo/3NhHl8aEWD0PANDGEKIA0A5lHz6p363cqb0FFbqoZ5D+eFNf3tuHFtEtyFsLJw/SV3sL9fgHuzV50UZd2TtEv7u+j6KCvK2eBwBoIwhRAGhHiivr9MTqvVqxOU/hfh6ae8cAngeJC+Ky2BAN7RGkResP6fkvDujqZ77R1Iu6adZlPeTtzssLAMCP43cKAGgHGm1NWpKZq6c+3afaBpvuuTRa917eg/eB4oJyc3HSjEuiNTIxQn//aK9eXJOjFZvz9Icb+uq6/nwBBABwdrxCAYA2btORU/r9yp3anV+uYT2C9KcR3IaL1hXSwUNPj0nQ7Sld9IdVuzRr6WZd2buT/nxzX4X5eVo9DwBghzjqDgDaqKq6Rj22aqdum7tBJ6vqNWf8AL0+ZTARCssM7BqgVbOG6tHrYrXu2yJd9fQ3ej39sJqaTKunAQDsDFdEAaANWnegWL99Z7uOldZoUmqUfj08hvflwS64ODtp+sXRGt43VP/v3Z36/apdWrX1uP5+a3/1CPG1eh4AwE5wRRQA2pCymgY9/PZ23bEwU27OTnprRqr+eFNfIhR2p2ugt16fMlhPjYrXgcJKXffcOj33+QHVNzZZPQ0AYAd45QIAbcRnu0/odyt3qLiyXjMvidaDV/aUh6uz1bOAszIMQ7cNjNSlMcF6/P3deubz/fpwx3E9eWucErt0tHoeAMBCXBEFADtXUlmn+5dt0bTXstXRy00r7xmq314bS4SizQjycdfz4xK1aPIgVdY26taXNuipT/ZxdRQAHBhXRAHAjn2yq0CPvrND5bUN+sWVvXT3pdFyc+FriGibLosN0Se/uFiPv79bs7/6Vl/tK9QzYxLUqxPvHQUAR8OrGQCwQ1V1jfrtiu2a8fomhfp56IP7LtIDV/YkQtHm+Xq46p+j4pU2YaAKymp1wwvrNP+bg5ysCwAOhiuiAGBnNuee0i+Wb1XuyWrdfWm0fnFlLwIU7c7VfUM1oGtHPfLODv119R59vueEnhoVr84BXlZPAwC0Al7ZAICdaLQ16dnP92vU3HQ12ky9MS1FD18TS4Si3QrycVfahIH6521x2nW8XNc+t1ZvZh+VaXJ1FADaO66IAoAdOFxcpQeXb9XWo6W6JTFCfxzRVx08XK2eBVxwhmFoVFJnpUYH6ldvbdNv3t6uz3af0D9ujVNHbzer5wEALhC+zA4AFjJNU8s35uq659fqYFGlXhiXqKfHJBChcDiRHb20dGqKfnd9b63ZV6jrnl+rjYdPWj0LAHCBEKIAYJHy2gbdu3SLHl6xQwmd/fXJLy7WjfHhVs8CLOPkZGjqRd31zt1D5ebipDHz0vXCFwdk4yAjAGh3CFEAsMDOY2W64fl1+nhXgR6+JlaLpyQrzM/T6lmAXegf6acP7humG+PD9a/P9mvCwkwVltdaPQsA0IIIUQBoRaZp6rX0w7rlxQ1qsDVp+fQU3X1ptJycDKunAXbF18NVz45J0D9ujdPm3FO69rm1WrOv0OpZAIAWQogCQCspr23QrKWb9YdVuzS0R6BW33+RkqICrJ4F2C3DMDR6UGd9cN8wBfm4a/KijXrioz1qsDVZPQ0A0EyEKAC0gh15p2/F/WTXCT1ybawWThrEiaDAOeoR4qtV9w7V7cldNO/rgxo1N13HS2usngUAaAZCFAAuINM09eqGw7r1pQ1qtDXpzRkpmnEJt+ICP5eHq7P+OrK/5owfoG8LK3XDC+u07kCx1bMAAOeJEAWAC6SqrlH3Ltuix97bpWE9g/Th/RdpYFduxQWa4/q4MK26d6gCvd008eVMzfnqWzVxqi4AtDmEKABcAIeKqzTyxfX6aEe+Hr4mVgsmJnErLtBCooN9tHLWUF0fF65/frJPMxZvUnltg9WzAAA/Q7NC1DCMXxiGscswjJ2GYSwzDMOjpYYBQFv1xZ4Tumn2OhVV1Om1u5I5FRe4ALzdXfT82AQ9dmMffbW3UDe9sE57C8qtngUAOEfnHaKGYURIul9Skmma/SQ5SxrbUsMAoK1pajL17Of7NeXVbHUJ8NJ79w7TsJ5BVs8C2i3DMHTn0G5aNj1FVfU2jZyzQSu3HLN6FgDgHDT31lwXSZ6GYbhI8pJ0vPmTAKDtKa9t0PTXs/Xs5wd0y4AIrbh7iDoHeFk9C3AIg6IC9OF9w9Q/wk8PLt+qx1btVH0jj3gBAHt23iFqmuYxSU9JypWUL6nMNM1PW2oYALQV+09UaMTs9Vqzr0h/uqmv/jUqXh6uzlbPAhxKSAcPLZmWrCnDuunV9COasDBTJZV1Vs8CAJxFc27N7ShphKRuksIleRuGcccPfNx0wzCyDcPILioqOv+lAGCHPtqRr5vnrFdFbaOWTkvRpCFRMgzeDwpYwdXZSb+/oY+eHZOgLUdLNWLOeu3J532jAGCPmnNr7pWSDpmmWWSaZoOkdyQN+f4HmaaZZppmkmmaScHBwc34dABgP0zT1HOfH9DdSzYrJtRXH9w3TIO78WgWwB7cnBiht2akqsHWpFtf2qCPdxZYPQkA8D3NCdFcSSmGYXgZp7/8f4WkPS0zCwDsV029Tfcu26JnPt+vWwZE6I3pKQr149BwwJ7Ed/bXe/cOU89Ovpq5eJNe+OKATJPnjQKAvWjOe0QzJb0tabOkHWd+rLQW2gUAdqmgrFZj0tK1eke+Hrk2Vv8aFS93F94PCtijTh08tHx6ikYmRuhfn+3XvUu3qLq+0epZAACdPvX2vJmm+Zikx1poCwDYtW1HSzXttWxV1TUqbUKSrurTyepJAH6Ch6uznh4dr9hQX/394706XFKltIlJivD3tHoaADi05j6+BQAcwvvbjmv0vHS5uThpxT1DiFCgDTEMQzMuidbLkwYpt6RaI2av06YjJ62eBQAOjRAFgB/R1GTq6c/2675lWxQX6adVs4YqNrSD1bMAnIfLYkP07qwh8nF30bj5mXpvG48/BwCrEKIAcBa1DTbdt2yLnv/igEYNjNTiqckK9HG3ehaAZugR4qt37hmq+Eg/3b9si2Z/ySFGAGAFQhQAfkBxZZ3Gzc/Q6p35evS6WP3jtjgOJQLaiQBvNy2emqwRCeF66tP9+vXb21Xf2GT1LABwKM06rAgA2qOcokpNXpSlooo6vXT7QF3TL9TqSQBamLuLs54dk6CoQG8998UBHTtVo7l3DJSfl6vV0wDAIXBFFAC+I/NgiW55cYOq62xaNi2FCAXaMcMw9Iureulfo+KVfeSkbnlpvXJLqq2eBQAOgRAFgDNWbT2mCQuzFOjjpnfvGarELh2tngSgFdw6MFKvT0lWcWW9Rr64XpuOnLJ6EgC0e4QoAIdnmqZmf3lAD7yxVYld/PXO3UPUJdDL6lkAWlFK90C9e88Q+Xq4aNz8DH2wnRN1AeBCIkQBOLQGW5MeXrFdT326XyMTI/TalMHy93KzehYAC3QP9tE79wxVXISf7l26RQvXHbJ6EgC0W4QoAIdVUdugu17ZqDez83T/5T309Oh4TsYFHNy/T9S9pm+o/vzBbv31w91qauLxLgDQ0ghRAA6psLxWY+ZlKD2nRP+4LU4PXR0jwzCsngXADni4OmvO7QM0KbWr5q89pAeWb1Vdo83qWQDQrvD4FgAO52BRpSa+nKWTVfVaMClJl8aEWD0JgJ1xdjL0x5v6KszfU3//aK+KKmqVNjFJHTx4vAsAtASuiAJwKFuPluq2uemqqT/9eBYiFMDZGIahmZdE65kx8co+fEqj56aroKzW6lkA0C4QogAcxlf7CjUuLUPe7s56++4hiu/sb/UkAG3AyMRILbpzkI6erNYtL67X/hMVVk8CgDaPEAXgEN7elKepr2are7C3Vtw9RN2CvK2eBKANuahnsJbPSFVDk6nbXtqgzIMlVk8CgDaNEAXQrpmmqZfW5OhXb21TSvcAvTE9RSG+HlbPAtAG9Yvw0zt3D1GQr7smvJylT3cVWD0JANosQhRAu9XUZOpP7+/Wkx/v1U3x4Vo0ebB8OWgEQDN0DvDSiplD1Dusg2Yu3qQ3s49aPQkA2iRCFEC7VN/YpAeWb9UrGw5ryrBuenZMgtxc+CUPQPN19HbT0qnJGtojSL95e7vmfZ1j9SQAaHN4VQag3ampt2n669l6f9txPXxNrH5/Qx85OfGMUAAtx9vdRQsmJen6uDA98dFePfHRHpmmafUsAGgzeI4ogHalrLpBd726UZtzT+mJW/pr3OAuVk8C0E65uzjr+bGJ8vd01byvD+pUVb3+NrK/XJz5Oj8A/BRCFEC7UVhRq4kLs5RTVKk54wfouv5hVk8C0M45Oxn6y839FOjjrue/OKDS6gY9Py5RHq7OVk8DALvGl+wAtAtHT1Zr1Nx05Z6s1suTBxGhAFqNYRh66KpeeuzGPvp09wlNXpSlitoGq2cBgF0jRAG0efsKKnTrSxtUWt2gxVOTdVHPYKsnAXBAdw7tpufGJij78CmNTctQSWWd1ZMAwG4RogDatM25pzR6Xrok6c0ZqRrQpaPFiwA4shEJEZo/KUk5RZUaPS9d+WU1Vk8CALtEiAJos9YeKNLt8zPl7+WqFXcPUUyor9WTAECXxYTotbuSdaK8TqPmputISZXVkwDA7hCiANqkT3YVaMor2eoa6KW3Zqaqc4CX1ZMA4D8GdwvQ0mnJqqpr1Ki56dp/osLqSQBgVwhRAG3Oqq3HdM+SzeoT3kFvTE9RiK+H1ZMA4H/ERfpr+YxUSdKYeenanldq8SIAsB+EKIA2ZVlWrh5cvlWDojpq8dRk+Xu5WT0JAM6qVydfvTUzVd7uLho/P1OZB0usngQAdoEQBdBmLFh7UI+8s0OX9ArWK3cOlo87j0IGYP+6BnrrrZmp6tTBXRNfztKafYVWTwIAyxGiAOyeaZp6/osD+suHe3Rtv1ClTUjiYfEA2pQwP08tn5Gq6GAfTXstW6t35Fs9CQAsRYgCsGumaervH+3V05/t160DIvXCuES5ufBLF4C2J8jHXcumpygu0l/3Lt2sFZvyrJ4EAJbh1RwAu9XUZOp3K3dq3jcHNSGlq/55W5xcnPllC0Db5efpqtenDFZqdKB+9fY2Lc3MtXoSAFiCV3QA7FKjrUm/enublmTmasYl3fX4iL5ycjKsngUAzebl5qKFkwbp0l7BevTdHVq0/pDVkwCg1RGiAOxOg61JDy7fqnc2H9NDV/XSb6+JlWEQoQDaDw9XZ82bkKThfTvpT+/v1ktrcqyeBACtihAFYFfqGm2atWSzPtier0evi9X9V/QkQgG0S24uTpo9foBuig/Xkx/v1TOf7ZdpmlbPAoBWwbMPANiN2gab7l68SV/tK9KfbuqrSUOirJ4EABeUq7OTnhmTIHcXJz33xQHVNtq4CwSAQyBEAdiFmnqbpr2WrfU5xfrbyP4an9zF6kkA0CqcnQw9eWuc3F2dNO/rg6praNJjN/YhRgG0a4QoAMtV1jXqrlc2KvvwSf3ztnjdNjDS6kkA0KqcnAz9eUQ/ubs4a+G6Q6prtOmvN/fnkDYA7RYhCsBS5bUNmvxylrbllenZsYm6KT7c6kkAYAnDMPS763vL09VZs7/6VnWNTfrnbfFyJkYBtEOEKADLlFbXa+LLWdqTX6454wfomn6hVk8CAEsZhqFfDY+Rm4uTnv5sv2xNpv41Kp5nKANodwhRAJY4WVWvOxZk6tuiSs2bMFCXx3ayehIA2I37r+gpZydD//xknxqbTD07JkGuxCiAdqRZIWoYhr+kBZL6STIl3WWaZnpLDAPQfhVX1umOBZk6VFylBROTdHGvYKsnAYDdmXVZD7k6G/rb6r2y2Uw9Py5Rbi7EKID2obm/mj0n6WPTNGMlxUva0/xJANqzooo6jUvL0OGSKi2aPIgIBYAfMf3iaP3+hj76eFeB7lmyWXWNNqsnAUCLOO8QNQyjg6SLJS2UJNM0603TLG2pYQDan8LyWo1NS1feqRotmjxYQ3oEWT0JAOzelGHd9PiIvvp8zwnNfH2TahuIUQBtX3OuiHaXVCRpkWEYWwzDWGAYhvf3P8gwjOmGYWQbhpFdVFTUjE8HoC0rKKvV2LQM5ZfV6tW7Bis1OtDqSQDQZkxMjdLfRvbXV/uKNO21bGIUQJvXnBB1kTRA0kumaSZKqpL02+9/kGmaaaZpJpmmmRQczC14gCM6XlqjMWnpKqyo02t3DdbgbgFWTwKANmd8chf949Y4rfu2WFNe3aiaemIUQNvVnBDNk5Rnmmbmmb9+W6fDFAD+I+9UtcakpetkZb1emzJYSVFEKACcr9GDOuup2+K1IadEd76Sper6RqsnAcB5Oe8QNU2zQNJRwzBizvytKyTtbpFVANqFoyerNWZehsqqG7R4arIGdOlo9SQAaPNuHRipZ0YnKOvQSU1etFFVdcQogLanuafm3idpiWEY2yUlSPpb8ycBaA9yS6o1Ni1DlXWNWjI1RfGd/a2eBADtxs2JEXpmTIKyD5/UncQogDaoWc8RNU1zq6SkFtoCoJ04UlKlcWkZqm6wacnUZPWL8LN6EgC0OyMSIuRkGHpw+VZNXpSlRXcOlo97s17aAUCr4anIAFrUkZIqjSVCAaBV3BgfrufGJmhzbqkmv5ylSq6MAmgjCFEALeZw8ekIrW2waenUFPUNJ0IB4EK7IS5cz49N1JajpZr0cpYqahusngQAP4kQBdAivhuhS6amqE94B6snAYDDuD4uTLPHJWobMQqgjSBEATTboeIqjUlLV72tSUunEaEAYIVr+4dp9vhEbc8r08SXs1ROjAKwY4QogGY5WFSpsWnparCZWjotWb3DiFAAsMo1/cI05/YB2pFXpgkLiVEA9osQBXDeTkdohhptppZNS1FsKBEKAFYb3jdUL94+QLuPl2kiMQrAThGiAM7LvyPU1mRq6bQUxYT6Wj0JAHDG1X1DNWf8AO08RowCsE+EKICf7bsRumw6EQoA9ujqM1dGiVEA9ogQBfCzfD9Ce3UiQgHAXhGjAOwVIQrgnB0qrtK4+UQoALQl343RSZymC8BOEKIAzsmh4iqNTUtXo+30e0KJUABoO/4dozvyiFEA9oEQBfCT/h2hDTYOJgKAtooYBWBPCFEAP+pQcZXGpWWo4cwjWohQAGi7vh+jFcQoAIsQogDO6vCZCK23NWnptGQiFADage/G6ERiFIBFCFEAP+hwcZXGfidCY0M7WD0JANBCru4bqjlcGQVgIUIUwP84UnL6dNy6RpuWTCVCAaA9Gt43VLPHD9D2vDJNXrRRlXWNVk8C4EAIUQD/5UjJ6SuhtQ02LZ2Wot5hRCgAtFfX9AvV7PGJ2na0VJNeziJGAbQaQhTAf+SWVGvcmQhdMpUIBQBHcE2/ML0wLlFbj5ZqMjEKoJUQogAknY7QsWnpqj4ToX3CiVAAcBTX9g/T7HGJ2nK0VHcuIkYBXHiEKAAdPVnfnkggAAAgAElEQVStcfMzzkRoMhEKAA7o2v5hen5sojbnno7RKmIUwAVEiAIO7ujJao1Ny1BVfaOWTE1W33A/qycBACxyfVyYnhubcCZGNxKjAC4YQhRwYP+O0Mq6Ri2eQoQCAKQb4sL17JgEbco9pTtfIUYBXBiEKOCgvhuhS6Ymq18EEQoAOO3G+NMxmn34JDEK4IIgRAEHRIQCAH7KjfHhem5s4n9itLqeGAXQcghRwMH8+2CiitoGLZ5ChAIAzu7G+HA9++8YXUSMAmg5hCjgQPJOnY7Q8poGLZmaov6RRCgA4MfdFB+uZ8YkaOPhk7qLK6MAWgghCjiIvFOnb8clQgEAP9eIhAg9MyZBWYeIUQAtgxAFHMB3I3Tx1GQiFADws303Rqe8kq2aepvVkwC0YYQo0M5993bcxVOTFRfpb/UkAEAbNSIhQk+PTlDmoRLd9cpGYhTAeSNEgXbsWGmNxs3PUGk1EQoAaBk3J0boX6PjiVEAzUKIAu3UsdIajU1LV2l1g5YQoQCAFjQyMfK/YpT3jAL4uQhRoB36boQunkKEAgBa3sjEyP+6TZcYBfBzEKJAO5N3qlpj5v1fhMZ3JkIBABfGzYmcpgvg/BCiQDty9OR3H9FChAIALrzvnqZ75yJiFMC5IUSBduK/IzSF23EBAK3m3zG68fBJTV60UVV1xCiAH0eIAu3AvyO0sq5RS6el8JxQAECrG5EQoWfHJir78Okro8QogB9DiAJtXG7J6feEVtY1asnUZPWLIEIBANa4KT5cz41NVPYRYhTAjyNEgTbsSEmVxqSlq7rBRoQCAOzCjWdidFPuKU1elKVKYhTADyBEgTbqcHGVxqZlqIYIBQDYmRvjw/X82ERtzi3VpJezVFHbYPUkAHaGEAXaoENnIrS2waalU1PUN5wIBQDYl+vjwjR7XKK2HS3VxJezVE6MAviOZoeoYRjOhmFsMQzjg5YYBODH5RRVasy8dNXbmrR0Wor6hHewehIAAD/o2v5hmnP7AO08VqYJC7NUVkOMAjitJa6IPiBpTwv8OAB+woETFRozL0NNpqll01LUO4wIBQDYt+F9Q/XS7QO1+3iZ7liQqdLqeqsnAbADzQpRwzAiJV0vaUHLzAFwNvsKKjQ2LUOGIb0xPUUxob5WTwIA4Jxc2aeT5k0YqH0FFbp9QaZOVRGjgKNr7hXRZyX9RlJTC2wBcBa7j5dr3PwMuTgbemN6inqEEKEAgLbl8thOSps4UAcKKzV+QaZOEqOAQzvvEDUM4wZJhaZpbvqJj5tuGEa2YRjZRUVF5/vpAIe181iZxi/IkLuLk5ZPT1V0sI/VkwAAOC+XxoRowcQkHSyq1Pj5GSqprLN6EgCLNOeK6FBJNxmGcVjSG5IuNwxj8fc/yDTNNNM0k0zTTAoODm7GpwMcz/a8Uo2fnyFvNxctn56qqCBvqycBANAsF/cK1sJJg3S4pErj5meosKLW6kkALHDeIWqa5iOmaUaaphklaaykL03TvKPFlgEObuvRUt2+IFMdPF31xvQUdQn0snoSAAAtYljPIL08eZCOnqzR2LQMFZQRo4Cj4TmigB3adOSkJizIVEcvNy2fkarOAUQoAKB9GRIdpNemDFZheZ3GpKXrWGmN1ZMAtKIWCVHTNNeYpnlDS/xYgKNLzynRhIVZCvJ11/IZKYrw97R6EgAAF8SgqAC9PmWwTlbVa/TcdOWWVFs9CUAr4YooYEe+2V+kyYuyFOHvqeXTUxTmR4QCANq3xC4dtXRqiqrqGzV6XroOFlVaPQlAKyBEATvxxZ4TmvpqtroH++iN6SkK6eBh9SQAAFpF/0g/LZuWogZbk8akZejAiQqrJwG4wAhRwA58tCNfM17fpNgwXy2blqxAH3erJwEA0Kp6h3XQG9NTJElj0zK0J7/c4kUALiRCFLDYqq3HdO+yLYrv7K/FU5Pl7+Vm9SQAACzRs5Ovlk9Pkauzk8bNz9DOY2VWTwJwgRCigIXezD6qB5dv1aCojnrtrsHq4OFq9SQAACzVPdhHb85Ilbebi8bNz9CmI6esngTgAiBEAYu8nnFEv3l7u4b1CNKiyYPl7e5i9SQAAOxCl0AvvTkzVYHebpqwMFMbcoqtngSghRGigAUWrD2o36/cqSt7h2j+xCR5ujlbPQkAALsS4e+pN2ekKrKjp+5ctFFf7S20ehKAFkSIAq3INE09+/l+/eXDPbquf6hevH2gPFyJUAAAfkhIBw+9MT1VPTv5aPrr2Vq9I9/qSQBaCCEKtBLTNPW31Xv07OcHdNvASD0/NlFuLvwUBADgxwR4u2nptBTFRfrr3qWbtWJTntWTALQAXgUDrcDWZOrRd3dq/tpDmpTaVf+4NU4uzvz0AwDgXHTwcNXrUwYrNTpQv3xrm17POGL1JADNxCth4AJrsDXpoTe3allWrmZdFq0/3tRXTk6G1bMAAGhTvNxctHDSIF0RG6Lfr9yp+d8ctHoSgGYgRIELqLbBpnuWbNaqrcf1m2ti9OvhsTIMIhQAgPPh4eqsuRMG6vq4MP119R4989l+maZp9SwA54HnRQAXSHV9o6a/tknrvi3W4yP6amJqlNWTAABo81ydnfT82ER5uTrruS8OqLKuUf/vut7cbQS0MYQocAGU1TTorlc2akvuKT01Kl63DYy0ehIAAO2Gs5OhJ2+Nk4+HixauO6Symgb9/Zb+nL8AtCGEKNDCiirqNOnlLB0orNCc8QN0bf8wqycBANDuODkZ+sMNfeTv6aZnPt+vitoGPTc2kceiAW0EXzYCWtDRk9UaNXeDDhZXav7EJCIUAIALyDAMPXBlTz12Yx99suuE7nployrrGq2eBeAcEKJAC9l/okK3zd2gU9UNWjI1RZfGhFg9CQAAh3Dn0G56enS8Mg+d1O3zM3Sqqt7qSQB+AiEKtIDNuac0am66TFN6c0aqBnbtaPUkAAAcyi0DIjX3joHaU1Ch0fPSVVBWa/UkAD+CEAWa6Zv9Rbp9fqb8vVy14u4hign1tXoSAAAO6ao+nfTKnYN0vLRGt83doMPFVVZPAnAWhCjQDB9sP64pr25UVJC33pqZqs4BXlZPAgDAoQ2JDtKy6SmqqmvUbXPTtft4udWTAPwAQhQ4T4szjui+ZVuU0Nlfb0xPUYivh9WTAACApLhIf701M1WuzobGzEtXek6J1ZMAfA8hCvxMpmlq9pcH9LuVO3VZTIheuytZfp6uVs8CAADf0SPEVyvuHqJOfh6a9HKWPtqRb/UkAN9BiAI/g63J1B9W7dJTn+7XyMQIzZswUJ5uPK8MAAB7FO7vqbdnpqpfRAfds3SzXs84YvUkAGcQosA5qm2wadaS07+JTb+4u/41Kl6uzvwUAgDAnvl7uWnJ1BRdHhOi36/cqac/3SfTNK2eBTg8XkUD56CsukETF2bp410F+v0NffTodb3l5GRYPQsAAJwDTzdnzZswUKOTIvX8l9/q0Xd3qNHWZPUswKG5WD0AsHfHS2s0eVGWDhdX64VxiboxPtzqSQAA4GdycXbSk7fGKcTXQ7O/+lZFFfWaPT5RHq68xQawAldEgR+xr6BCt7y4QfmltXrlrkFEKAAAbZhhGPrV8Bj96aa++mLvCd2xIFOl1fVWzwIcEiEKnEXmwRKNmrtBTaapN2emakh0kNWTAABAC5g0JEqzxw3Q9rwy3TY3XUdPVls9CXA4hCjwA1bvyNeEhVkK9nXXO/cMUe+wDlZPAgAALej6uDC9NmWwCstrNfLFDdqeV2r1JMChEKLAd5imqQVrD2rW0s3qH+mnt2cOUWRHL6tnAQCACyCle6DeuWeI3F2cNGZehr7Yc8LqSYDDIESBMxptTXrsvV36y4d7NLxPqBZPSVZHbzerZwEAgAuoR4iv3p01RD1CfDTttWyeNQq0EkIUkFRV16jpr2/Sa+mnnxH64u0D5OnGKXoAADiCEF8PLZ+RostjTz9r9InVe9TUxLNGgQuJEIXDO1Feq9Hz0rVmX6H+cnM/nhEKAIAD8nJz0bwJSZqQ0lXzvjmo+97YotoGm9WzgHaL54jCoe0+Xq4pr25UeU2DFk4epMtiQqyeBAAALOLsZOjxEX3VOcBTf1u9VyfKajV/YhJv1QEuAK6IwmGt2VeoUXM3yDSlt2YOIUIBAIAMw9D0i6M1Z/wAbT9WppEvrldOUaXVs4B2hxCFQ1qSeURTXs1W10BvrZw1VH3CeTwLAAD4P9fHhWnZtGRV1DZq5Jz1Wneg2OpJQLtCiMKhNNqa9OcPduv/vbtTF/cM0pszUxXq52H1LAAAYIcGdg3QyllDFebnqUmLsjhRF2hBhCgcRllNg+56NVsL1x3S5CFRmj8xST7uvE0aAACcXecAL624Z4gu7RWs36/cqcdW7VSjrcnqWUCbx6twOIRDxVWa8upG5ZZU64lb+mvc4C5WTwIAAG2Ej7uL0iYm6cmP9yrtm4M6WFyl2eMHyM/T1eppQJvFFVG0e+sOFOvmOetVWt2gJVOTiVAAAPCzOTsZevS63nry1v5KzynRLS+u1+HiKqtnAW0WIYp2yzRNvbrhsCYtylJoBw+tmjVUyd0DrZ4FAADasDGDumjx1GSVVNXr5hfXa0MOhxgB5+O8Q9QwjM6GYXxlGMYewzB2GYbxQEsOA5qjvrFJj767U4+9t0uXxQRrxT1D1DnAy+pZAACgHUjpHqhVs4Yq0NtNExdm6dUNh2WaptWzgDalOVdEGyX90jTN3pJSJM0yDKNPy8wCzt/JqnpNWJipZVm5uufSaKVN4FAiAADQsroGeuvdWUN1Sa9gPfbeLv3qre2qbbBZPQtoM847RE3TzDdNc/OZP6+QtEdSREsNA87Hjrwy3fjCOm05WqpnxyToN9fEysnJsHoWAABohzp4uGr+xCQ9cEVPrdicp9Hz0nW8tMbqWUCb0CLvETUMI0pSoqTMH/i+6YZhZBuGkV1UVNQSnw74QW9uPKpb526QJL09M1U3J/J1EQAAcGE5ORn6xVW9NH9ikg4WVenGF9YpPafE6lmA3Wt2iBqG4SNphaQHTdMs//73m6aZZppmkmmaScHBwc39dMD/qGu06ZF3dug3K7ZrUFRHvX/fMMVF+ls9CwAAOJCr+nTSyllD5e/lqjsWZurldYd43yjwI5oVooZhuOp0hC4xTfOdlpkEnLv8shqNnpehZVm5mnlJtF69c7ACvN2sngUAABxQjxAfrZw1VJfHhujxD3brl29u432jwFmc9wkuhmEYkhZK2mOa5tMtNwk4NxtyinXf0i2qbbBp7h0DdE2/MKsnAQAAB+fr4ap5dwzUC19+q2c+36/9hRV66faBnN4PfE9zrogOlTRB0uWGYWw98+26FtoFnJVpmpr/zUFNWJglfy9Xrbp3GBEKAADshpOToQeu7KmFk5J0pKRa1z+/Vp/uKrB6FmBXmnNq7jrTNA3TNONM00w48211S44Dvq+8tkGzlm7WX1fv0dV9OmnVvcPUI8TH6lkAAAD/44renfThfRepa6C3pr++SX/5YLcabE1WzwLsQoucmgu0hm1HS3XD8+v0ya4TeuTaWL14+wCeDwoAAOxal0AvvX13qiamdtWCdYc0hke8AJIIUbQBpmlq4bpDum3uBjXamvTmjBTNuCRap9+mDAAAYN/cXZz1+Ih+mj0+UftPVOq659fqq72FVs8CLEWIwq6VVtdr2mub9OcPduuSXiFa/cBFGtg1wOpZAAAAP9sNceF6796hCu3goTtf2agnP96rRm7VhYMiRGG3Nh05qeueW6uv9xfqDzf00fyJA+XvxaNZAABA29U9+PQjXsYN7qyX1uRo/IJMFZTVWj0LaHWEKOxOU5Opl9bkaPS8DLk4O2nF3UN017Bu3IoLAADaBQ9XZz1xS5yeGROvHXlluua5b/TRjnyrZwGtihCFXSksr9XkM7eqDO/bSR/cP0xxkf5WzwIAAGhxIxMj9eH9w9QlwEt3L9msh9/erqq6RqtnAa2CI0dhNz7aka9H392h6nqb/nxzP92R3IWroAAAoF3rHuyjFXcP0bOf79eLa3KUeahEz45NVEJnvhCP9o0rorBceW2DHnpzq+5eslmRHb304f0XaUJKVyIUAAA4BFdnJ/16eKzemJaiBpupW1/aoNlfHpCtybR6GnDBEKKwVObBEl377Fqt3HJM91/eQ+/cM0Q9QnysngUAANDqkrsHavUDF+m6/mF66tP9GpeWobxT1VbPAi4IQhSWqGu06YmP9mjs/Ay5OBt6a+YQPXR1jFyd+V8SAAA4Lj9PVz0/NkHPjInX7vxyXfvsWr2zOU+mydVRtC+8RxStbl9BhR5cvlV78ss1bnAX/e763vJ2539FAAAASTIMQyMTI5XUNUAPvblVD725TR9uz9dfR/ZXqJ+H1fOAFsHlJ7SaBluTZn95QDe+sE5FFbVaOClJT9zSnwgFAAD4AZ0DvPTG9FT9/oY+Wp9TrKue+VpvZh/l6ijaBQoArWJ7Xql+8/Z27S2o0PX9w/SnEX0V5ONu9SwAAAC75uxkaMqwbroiNkS/WbFdv3l7uz7Ynq+/39Jf4f6eVs8DzhtXRHFB1dTb9MTqPbp5znqdqq5X2oSBmnP7ACIUAADgZ4gK8tYb01L0p5v6KvvwSV39zDdalpXL1VG0WVwRxQWzIadYj7yzQ0dKqjVucGf99tre8vN0tXoWAABAm+TkZGjSkChdHhui37y9XY+8s0MfbD+uv98Sp84BXlbPA34WroiixZXVNOiRd7Zr/PxMSdLSacl64pY4IhQAAKAFdA7w0pKpyfrLzf20NbdUVz/zjV5ak6P6xiarpwHnjCuiaDGmaWr1jgI9/sEuFVXUacbF3fXglb3k6eZs9TQAAIB2xcnJ0B0pXXVZbIj+9N4uPfnxXq3YnKc/j+in1OhAq+cBP4kromgRB05U6PYFmZq1dLMCvd21ctZQPXJdbyIUAADgAorw91TaxCQtnJSk2gabxs3P0INvbFFhRa3V04AfxRVRNEtFbYOe+/yAXtlwWN7uLvrzzf00fnAXOTsZVk8DAABwGFf07qQh0UF6cc23mvf1QX2xp1C/Gh6jO1K68roMdokQxXkxTVPvbjmmJz7aq+LKOo0d1EW/Hh6jAG83q6cBAAA4JE83Z/3y6hiNTIzQH1bt0mPv7dJbm47qzyP6KbFLR6vnAf+FEMXPtut4mR5btUvZR04pobO/Fk5KUlykv9WzAAAAIKl7sI9enzJYH+7I1+Pv79bIFzfo5oRw/Wp4jCI7crou7AMhinN2orxWz35+QMs35qqjl5v+cWucbhsYKSdu9wAAALArhmHohrhwXdIrWHO/ztGCtYe0emeB7hraTfdcFq0OHjzNANYiRPGTymsbNO/rHC1cd0i2JlOThkTpwSt6yc+LX8AAAADsma+Hq349PFbjk7vqX5/s09yvc/Rm9lE9eGVPjRvcRa7OnF0KaxCiOKvaBpsWZxzR7K++VWl1g0YkhOuXV8WoSyC3dAAAALQlEf6eenpMgu4a1k1/+XC3/rBql15Zf1i/vTZWV/XpJMPgDje0LkIU/8PWZGrllmN6+rP9OlZao4t6Bunha2LVL8LP6mkAAABohn4Rflo2LUVf7i3U31bv0fTXN2lwtwD96uoYDe4WYPU8OBBCFP9hmqa+2FOopz7dp70FFeof4acnb43TsJ5BVk8DAABACzEMQ1f07qRLegXrjY1H9eznBzR6XrpSuwfqwSt7Krl7oNUT4QAIUcjWZOqjnfma81WO9uSXq2ugl14Yl6jr+4dxEBEAAEA75eLspDtSuurWAZFampWruV/naExahlK6B+jBK3sphSDFBUSIOrAGW5NWbT2uF9d8q4NFVeoe7K2nRsVrREI4b1wHAABwEJ5uzpoyrJtuT+6ipZm5eunrHI1Ny1Byt9NBmhpNkKLlEaIOqLbBprc25Wne1znKO1Wj3mEdNGf8AF3TL1TOXAEFAABwSB6uzrprWDeNT+6iZVm5emlNjsbNz9DgbgG6+9JoXdIzmLvl0GIIUQdSVt2g5dm5WrD2kAor6pTYxV+Pj+iry2JCOCkNAAAAkk4H6Z1Du2nc4C56I+v0FdI7F21UdLC37hzaTbcMiJCXGxmB5uH/IAew+3i5Xs84rHe3HFNtQ5OGRAfq2TEJSo0OJEABAADwgzxcnTV5aDeNT+6q1Tvy9fL6Q/rdyp365yf7NG5wF01M7apwf0+rZ6KNIkTbqQZbkz7eWaDX0g9r4+FT8nB10s0JEZqQ2lV9w3kMCwAAAM6Nm4uTbk6M0IiEcG06ckovrz+ktG9yNH/tQV3XP0x3DY1SYpeOVs9EG0OItjOF5bVampWrpZm5KqyoU5cAL/3u+t4aNbCz/LxcrZ4HAACANsowDCVFBSgpKkB5p6r1WvoRLcvK1fvbjqtfRAeNGthZIxLC5e/lZvVUtAGEaDtQU2/Tp7sLtHLLMX1zoFi2JlOXxgTrydQoXdKLN5UDAACgZUV29NKj1/XW/Vf01Dub87R841E99t4u/fXDPbqqTyfdNjBSF/UMkgtPYsBZEKJtlK3JVHpOid7dckwf78xXVb1NYX4emnZRd40d1FlRQd5WTwQAAEA75+PuoompUZqYGqXdx8v11qajWrX1uD7cka9OHdw1MjFStw2MVI8QH6unws4Qom2IaZranV+ulVuOadXW4yqsqJOvu4tuiAvXzYkRSu4WwNVPAAAAWKJPeAc9Ft5Xj1zbW1/uPaG3N+Vp/tqDmvt1juIi/TS8b6iG9+2kHiG+Vk+FHSBE7Vxdo02ZB0/qy72F+mLvCR09WSNXZ0OXxoRoZGKELo8NkYers9UzAQAAAEmnDze6pl+YrukXpsKKWq3cckwf7ijQPz/Zp39+sk/dg711dZ/TURof6c+FlHPQaGvS1qOlKq9t0OWxnaye0yIIUTtUWF6rr/YV6os9hVr3bbGq623ycHXS0Ogg3X1JD13bL1QdvXkTOAAAAOxbiK+Hpl8crekXRyu/rEaf7z6hT3ad0IIzV0o7dXDXVX066crenTQoKkDe7uTJvx0rrdE3+4v09b4irc8pVkVto6KDvQlRtJzS6nptOnJKGw+f0oacYm3PK5Mkhft56JYBEboitpNSowO58gkAAIA2K8zPUxNSozQhNUpl1Q36ct8JfbLzhFZsOqbFGblycTIUF+mnlO6BSo0O1MCuHeXl5ji5UlNvU+ahEn29v0jf7C9STlGVJCnMz0PX9QvTJTHBGhodZPHKluM4/2XthGmayj1ZrezDp5R95KSyD5/SgcJKSfrPT75fD4/R5bEhig31lWFwqwIAAADaFz8vV41MjNTIxEjVNtiUeeikMg+WKP1gieZ9c1AvrsmRi5Oh+M7+SukeoORugeoX4aeAdnJXYFOTqZyiSm09WqqtR0u1La9Ue/Mr1Nhkyt3FScndAzVucBdd0itYPUJ82mUTNCtEDcO4RtJzkpwlLTBN8+8tsqqdqKm3KaeoUvtPVOhAYaUOnKjQtrwyFVXUSZJ8PVyU1LWjbk6M0MCuHRUf6S9PN656AgAAwHF4uDrrkl7BuqRXsCSpqq5R2UdOKeNgiTIOlmju1wc156scSVJoBw/1DvNVn/AO+v/t3VuMnHUZx/Hvs7O7s9vdtku7bem5JawCIpSDBSNR4yEBL2gMXOCFitFgjIgm3hgvNHLnjSYaokEloDGAQWMqwRCNGryRQxCrUNSmgF1aem53u+2eZh8vZoCybNuB7rxTZr6f5M3O9P2386Tz7LP7m3nfdy5euYhLVi5i/dI+SufweaYT0xV2HTrOjn1jbBuuhs5tu44yOjENwMJyJ5etXcwXP3QBmzcu5ZqNS9riSMi3HUQjogTcBXwcGAaejIitmfncfBV3rstMDh+fYt/oOHtHJtg7Ms7O/WPs2DfKf/YeY9fh42RW13aVgo2DfVx34SBXrT+P921YwtDyfk/OliRJkk7SV+58QzA9NjHNM/87wnN7jrJ9zyjP7R7hsf8eoDJT/UW7t6vEu89fyIalC1g10Mvq83pZNdDLmoHq1yLOOz0xWWH/6AQvHBzjxQNjvHBgjJ0HxnjhwDFePnyCWql0dgQXrVzIlitWcfmaAa5YN8AFg+2ZCc7mWdkM7MjMnQAR8QCwBXhHBtFXjo6zbfgI49MzjE9VmJieYaL2dXyqwvhUhRNTFQ6MTrJ3dJx9IxPsH51gsjLzhn/n1cD53jWLuenKNQyt6OddK/pZv7SPLj/QV5IkSXpL+sudXDc0yHVDr58fOT5VYce+Yzy3Z4Tte0Z4fs8oT710mFe27WH61dRXM7Cgi1WLe1na301fdyf9PZ30lzvpK5foL3fRXy7R39NJV6mDykwyXUkqmdXbM8lM7ev4VIVDY5McHpvk4Ngkh07aTkxV3lTzxsE+Nq09j09esYYLBvvYMNjHRecvbIt3O+txNkF0NbDrpPvDwDWzF0XEbcBtAOvWrTuLh2usJ148xB33/33OfRFQ7uygp6vEYH+ZFYvKbN64hOWLyqxY2MOKRT0sX1Rm+cIyqwZ6DZySJElSA/V0lbh09WIuXb34DX9emUn2jY6z+8gJhg+fYPeR6u2Xj5zgyPFJ9o6MMzZRYXR8irHJymvvqtart6vEkr5ulvZXt6Hl/Szp62ZJfzeDfWXWL13AxmV9LOsvt+R5nfPpbILoXP+zb3omM/Nu4G6Aq6+++q090wX64NAgD3/lOnq6Sq+FznJXBz2dJbpKYSNJkiRJ57hSR7BycS8rF/dy1frTr81MxqdmODYxzbGJaaYqM3R2BKXa1tnRQUcHdHZ0UIqoZgPfzZw3ZxNEh4G1J91fA+w+u3KaZ2BBNwMLWuMqXJIkSZJOLyLo7S7R211i2cJys8tpO2dzDOmTwFBEbIyIbuAWYOv8lCVJkiRJalVv+x3RzJyOiNuBR6l+fMs9mfnsvFUmSZIkSWpJZ3Ut48x8BHhknmqRJMcz1s0AAASZSURBVEmSJLUBL+8qSZIkSSqUQVSSJEmSVCiDqCRJkiSpUAZRSZIkSVKhDKKSJEmSpEIZRCVJkiRJhTKISpIkSZIKFZlZ3INF7AdeKuwB37pB4ECzi1DT2QeyB2QPyB6QPSB74O1Zn5nLzrSo0CB6rouIpzLz6mbXoeayD2QPyB6QPSB7QPZAY3loriRJkiSpUAZRSZIkSVKhDKJvdHezC9A5wT6QPSB7QPaA7AHZAw3kOaKSJEmSpEL5jqgkSZIkqVAGUUmSJElSodoyiEbE9RHx74jYERHfmGN/OSIerO1/PCI2FF+lGqmOHrg1IvZHxDO17QvNqFONExH3RMS+iPjXKfZHRPyg1iPbIuLKomtUY9XRAx+OiKMnzYFvFV2jGisi1kbEnyNie0Q8GxFfnWONs6CF1dkDzoIWFhE9EfFERPyj1gPfmWON2aAB2i6IRkQJuAu4AbgE+FREXDJr2eeBw5l5IfB94LvFVqlGqrMHAB7MzE217aeFFqki3Atcf5r9NwBDte024EcF1KRi3cvpewDgryfNgTsLqEnFmga+npkXA9cCX57j54GzoLXV0wPgLGhlE8BHMvNyYBNwfURcO2uN2aAB2i6IApuBHZm5MzMngQeALbPWbAHuq91+CPhoRESBNaqx6ukBtbjMfAw4dJolW4CfZ9XfgIGIWFlMdSpCHT2gFpeZezLz6drtUWA7sHrWMmdBC6uzB9TCat/bx2p3u2rb7Ku5mg0aoB2D6Gpg10n3h3nzwHltTWZOA0eBpYVUpyLU0wMAN9UOw3ooItYWU5rOIfX2iVrb+2uHa/0+It7T7GLUOLVD7a4AHp+1y1nQJk7TA+AsaGkRUYqIZ4B9wB8y85RzwGwwf9oxiM716sXsVz3qWaN3rnqe398BGzLzMuCPvP4qmNqHc0BPA+trh2v9EPhtk+tRg0REP/Br4GuZOTJ79xx/xVnQYs7QA86CFpeZlczcBKwBNkfEpbOWOAcaoB2D6DBw8rtba4Ddp1oTEZ3AYjx8q5WcsQcy82BmTtTu/gS4qqDadO6oZ1aohWXmyKuHa2XmI0BXRAw2uSzNs4joohpAfpmZv5ljibOgxZ2pB5wF7SMzjwB/4c3XDzAbNEA7BtEngaGI2BgR3cAtwNZZa7YCn63dvhn4U2b6qkfrOGMPzDr/50aq54yovWwFPlO7Yua1wNHM3NPsolSciDj/1XOAImIz1Z+ZB5tbleZT7fn9GbA9M793imXOghZWTw84C1pbRCyLiIHa7V7gY8Dzs5aZDRqgs9kFFC0zpyPiduBRoATck5nPRsSdwFOZuZXqQPpFROyg+mrHLc2rWPOtzh64IyJupHo1vUPArU0rWA0REfcDHwYGI2IY+DbVCxSQmT8GHgE+AewAjgOfa06lapQ6euBm4EsRMQ2cAG7xF4+W8wHg08A/a+eHAXwTWAfOgjZRTw84C1rbSuC+2qcqdAC/ysyHzQaNF34fSZIkSZKK1I6H5kqSJEmSmsggKkmSJEkqlEFUkiRJklQog6gkSZIkqVAGUUmSJElSoQyikiRJkqRCGUQlSZIkSYX6P7rdIspChs+JAAAAAElFTkSuQmCC\n",
          "text/plain": "<matplotlib.figure.Figure at 0x1061b99e8>"
         },
         "metadata": {},
         "output_type": "display_data"
        }
       ]
      }
     },
     "1a0fa27ea0514149be1225e0ed77a9fb": {
      "model_module": "@jupyter-widgets/controls",
      "model_module_version": "1.1.0",
      "model_name": "SliderStyleModel",
      "state": {
       "description_width": ""
      }
     },
     "2108e2de3f164696b919c6f4353f5290": {
      "model_module": "@jupyter-widgets/controls",
      "model_module_version": "1.1.0",
      "model_name": "SliderStyleModel",
      "state": {
       "description_width": ""
      }
     },
     "255d242f2117475eb794846385feb34d": {
      "model_module": "@jupyter-widgets/controls",
      "model_module_version": "1.1.0",
      "model_name": "SliderStyleModel",
      "state": {
       "description_width": ""
      }
     },
     "25650be3d0b044e09e3ee55acefb4e85": {
      "model_module": "@jupyter-widgets/controls",
      "model_module_version": "1.1.0",
      "model_name": "SliderStyleModel",
      "state": {
       "description_width": ""
      }
     },
     "2d78958de1ef4ebdbc5e99be46395bd2": {
      "model_module": "@jupyter-widgets/output",
      "model_module_version": "1.0.0",
      "model_name": "OutputModel",
      "state": {
       "layout": "IPY_MODEL_343decb10a4543068240bceb8fbac3f4",
       "outputs": [
        {
         "data": {
          "image/png": "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\n",
          "text/plain": "<matplotlib.figure.Figure at 0x10f0d32e8>"
         },
         "metadata": {},
         "output_type": "display_data"
        }
       ]
      }
     },
     "2dee85daa91840d090363af82bc1dee0": {
      "model_module": "@jupyter-widgets/controls",
      "model_module_version": "1.1.0",
      "model_name": "FloatSliderModel",
      "state": {
       "description": "distance",
       "layout": "IPY_MODEL_757bd15da5dc45d2866efb9e737b66b5",
       "max": 10,
       "min": 0.5,
       "step": 0.1,
       "style": "IPY_MODEL_7ef5290dc9564d8e989e8d194a7689dd",
       "value": 10
      }
     },
     "30a2e80c852242c9bafaef8fc5b50414": {
      "model_module": "@jupyter-widgets/controls",
      "model_module_version": "1.1.0",
      "model_name": "SliderStyleModel",
      "state": {
       "description_width": ""
      }
     },
     "33980185d20a4c45b0eaa470755a5e2b": {
      "model_module": "@jupyter-widgets/base",
      "model_module_version": "1.0.0",
      "model_name": "LayoutModel",
      "state": {}
     },
     "343decb10a4543068240bceb8fbac3f4": {
      "model_module": "@jupyter-widgets/base",
      "model_module_version": "1.0.0",
      "model_name": "LayoutModel",
      "state": {}
     },
     "35a60f621b09405aac00b0f3ac82a6ff": {
      "model_module": "@jupyter-widgets/controls",
      "model_module_version": "1.1.0",
      "model_name": "SliderStyleModel",
      "state": {
       "description_width": ""
      }
     },
     "384646b215d84b6ab6ffc2f910466185": {
      "model_module": "@jupyter-widgets/controls",
      "model_module_version": "1.1.0",
      "model_name": "SliderStyleModel",
      "state": {
       "description_width": ""
      }
     },
     "384840d870bf48cb86ae77eee8a6a901": {
      "model_module": "@jupyter-widgets/controls",
      "model_module_version": "1.1.0",
      "model_name": "SliderStyleModel",
      "state": {
       "description_width": ""
      }
     },
     "40ccc14f06574755a49bf17df4b0fbe9": {
      "model_module": "@jupyter-widgets/controls",
      "model_module_version": "1.1.0",
      "model_name": "FloatSliderModel",
      "state": {
       "description": "mass",
       "layout": "IPY_MODEL_d8575d5c7a3a4108a96d8cf0c1ac64e0",
       "max": 1000,
       "step": 0.1,
       "style": "IPY_MODEL_35a60f621b09405aac00b0f3ac82a6ff",
       "value": 500
      }
     },
     "468fe8cf2c754d6eb0e1d081207e0592": {
      "model_module": "@jupyter-widgets/controls",
      "model_module_version": "1.1.0",
      "model_name": "SliderStyleModel",
      "state": {
       "description_width": ""
      }
     },
     "54b8c3af685b4a05975eceb726d9be05": {
      "model_module": "@jupyter-widgets/base",
      "model_module_version": "1.0.0",
      "model_name": "LayoutModel",
      "state": {}
     },
     "563541719b274599b4ebb161f4f730b8": {
      "model_module": "@jupyter-widgets/base",
      "model_module_version": "1.0.0",
      "model_name": "LayoutModel",
      "state": {}
     },
     "5d63df5211744a09b6af4a4b04175d3b": {
      "model_module": "@jupyter-widgets/base",
      "model_module_version": "1.0.0",
      "model_name": "LayoutModel",
      "state": {}
     },
     "60684b470a944595900f0a37d736bfbe": {
      "model_module": "@jupyter-widgets/controls",
      "model_module_version": "1.1.0",
      "model_name": "VBoxModel",
      "state": {
       "_dom_classes": [
        "widget-interact"
       ],
       "children": [
        "IPY_MODEL_034854c45a814fdfa29331930efd78b1",
        "IPY_MODEL_1916f978c53940239c4e965ec6323c41"
       ],
       "layout": "IPY_MODEL_94de46fc3dcc48d1b2b5382b659d1496"
      }
     },
     "62b1dd6696ef4269b23f5498a339879a": {
      "model_module": "@jupyter-widgets/base",
      "model_module_version": "1.0.0",
      "model_name": "LayoutModel",
      "state": {}
     },
     "62c58cc70d8d4cbcbdb8098551eb17fb": {
      "model_module": "@jupyter-widgets/base",
      "model_module_version": "1.0.0",
      "model_name": "LayoutModel",
      "state": {}
     },
     "65fc40e776a642cbb81ca2a4676d9034": {
      "model_module": "@jupyter-widgets/controls",
      "model_module_version": "1.1.0",
      "model_name": "FloatSliderModel",
      "state": {
       "description": "mass",
       "layout": "IPY_MODEL_adf0314fdf4146ca8b04eaafda40b453",
       "max": 1000,
       "step": 0.1,
       "style": "IPY_MODEL_1a0fa27ea0514149be1225e0ed77a9fb",
       "value": 500
      }
     },
     "67b14992b1ed4c488245824ea07d92f0": {
      "model_module": "@jupyter-widgets/output",
      "model_module_version": "1.0.0",
      "model_name": "OutputModel",
      "state": {
       "layout": "IPY_MODEL_5d63df5211744a09b6af4a4b04175d3b",
       "outputs": [
        {
         "data": {
          "image/png": "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\n",
          "text/plain": "<matplotlib.figure.Figure at 0x10f08ba58>"
         },
         "metadata": {},
         "output_type": "display_data"
        }
       ]
      }
     },
     "6ba432b20c53479a96d2dbc438b3392c": {
      "model_module": "@jupyter-widgets/base",
      "model_module_version": "1.0.0",
      "model_name": "LayoutModel",
      "state": {}
     },
     "6dac17aaa8464e2cbeb3d1e632168170": {
      "model_module": "@jupyter-widgets/controls",
      "model_module_version": "1.1.0",
      "model_name": "FloatSliderModel",
      "state": {
       "description": "distance",
       "layout": "IPY_MODEL_00eb5179426841ec81bc30cae65007c1",
       "max": 10,
       "min": 0.5,
       "step": 0.1,
       "style": "IPY_MODEL_10016c9959224c57a47c84e6b65fb4ae",
       "value": 10
      }
     },
     "6f8b5d08ea064ecca7e6a17653c5b99d": {
      "model_module": "@jupyter-widgets/controls",
      "model_module_version": "1.1.0",
      "model_name": "FloatSliderModel",
      "state": {
       "description": "mass",
       "layout": "IPY_MODEL_33980185d20a4c45b0eaa470755a5e2b",
       "max": 1000,
       "step": 0.1,
       "style": "IPY_MODEL_0667c13cf2994505ba8dc3c5135fe98c",
       "value": 500
      }
     },
     "6fd8c0691c3d4127a5ccb9350cf6ca42": {
      "model_module": "@jupyter-widgets/controls",
      "model_module_version": "1.1.0",
      "model_name": "SliderStyleModel",
      "state": {
       "description_width": ""
      }
     },
     "707e43c483e648468f1747fdbd53773c": {
      "model_module": "@jupyter-widgets/base",
      "model_module_version": "1.0.0",
      "model_name": "LayoutModel",
      "state": {}
     },
     "72939bff67b14e29afe79688774c8be2": {
      "model_module": "@jupyter-widgets/controls",
      "model_module_version": "1.1.0",
      "model_name": "SliderStyleModel",
      "state": {
       "description_width": ""
      }
     },
     "757bd15da5dc45d2866efb9e737b66b5": {
      "model_module": "@jupyter-widgets/base",
      "model_module_version": "1.0.0",
      "model_name": "LayoutModel",
      "state": {}
     },
     "7681324b738340e3ace8db12d70b3492": {
      "model_module": "@jupyter-widgets/controls",
      "model_module_version": "1.1.0",
      "model_name": "VBoxModel",
      "state": {
       "_dom_classes": [
        "widget-interact"
       ],
       "children": [
        "IPY_MODEL_bc9b2d8d3ae34e40b25d8b5c58438191",
        "IPY_MODEL_0af2128085814d25ac3dd239060db80a",
        "IPY_MODEL_acef9af409d842b9aa8af50e73300308",
        "IPY_MODEL_65fc40e776a642cbb81ca2a4676d9034",
        "IPY_MODEL_e7be2052f0e74365b59917351b724a4d"
       ],
       "layout": "IPY_MODEL_b19474bab86c4548bfbaabe8cd7b0109"
      }
     },
     "79a737f5b80849d7bc68cbbdb6f29a01": {
      "model_module": "@jupyter-widgets/base",
      "model_module_version": "1.0.0",
      "model_name": "LayoutModel",
      "state": {}
     },
     "7ef5290dc9564d8e989e8d194a7689dd": {
      "model_module": "@jupyter-widgets/controls",
      "model_module_version": "1.1.0",
      "model_name": "SliderStyleModel",
      "state": {
       "description_width": ""
      }
     },
     "8050237c969c44598e6110807a1ebebf": {
      "model_module": "@jupyter-widgets/controls",
      "model_module_version": "1.1.0",
      "model_name": "FloatSliderModel",
      "state": {
       "description": "distance",
       "layout": "IPY_MODEL_9f9f3e3972c9433288776e7e62b99b50",
       "max": 10,
       "min": 0.5,
       "step": 0.1,
       "style": "IPY_MODEL_384646b215d84b6ab6ffc2f910466185",
       "value": 10
      }
     },
     "815c032d080b4796b790d27defbdd5a0": {
      "model_module": "@jupyter-widgets/controls",
      "model_module_version": "1.1.0",
      "model_name": "VBoxModel",
      "state": {
       "_dom_classes": [
        "widget-interact"
       ],
       "children": [
        "IPY_MODEL_d6c6261a3b6241248db7808daa9b82be",
        "IPY_MODEL_67b14992b1ed4c488245824ea07d92f0"
       ],
       "layout": "IPY_MODEL_0200724800a74bbfb322e72f998da887"
      }
     },
     "8c7dac7d11de4703a68ff20f26d7a209": {
      "model_module": "@jupyter-widgets/controls",
      "model_module_version": "1.1.0",
      "model_name": "SliderStyleModel",
      "state": {
       "description_width": ""
      }
     },
     "8d5247ca92c44590907c4380cf2ced58": {
      "model_module": "@jupyter-widgets/base",
      "model_module_version": "1.0.0",
      "model_name": "LayoutModel",
      "state": {}
     },
     "94de46fc3dcc48d1b2b5382b659d1496": {
      "model_module": "@jupyter-widgets/base",
      "model_module_version": "1.0.0",
      "model_name": "LayoutModel",
      "state": {}
     },
     "9b6364c444124b738e693aa739257cd0": {
      "model_module": "@jupyter-widgets/controls",
      "model_module_version": "1.1.0",
      "model_name": "VBoxModel",
      "state": {
       "_dom_classes": [
        "widget-interact"
       ],
       "children": [
        "IPY_MODEL_af43cbe7801d49d5bffac52cbd4a6618",
        "IPY_MODEL_f468387663d54882ab4971df880ea2c0",
        "IPY_MODEL_8050237c969c44598e6110807a1ebebf",
        "IPY_MODEL_6f8b5d08ea064ecca7e6a17653c5b99d",
        "IPY_MODEL_2d78958de1ef4ebdbc5e99be46395bd2"
       ],
       "layout": "IPY_MODEL_54b8c3af685b4a05975eceb726d9be05"
      }
     },
     "9c57ad4be6d14240b414a593e4240548": {
      "model_module": "@jupyter-widgets/controls",
      "model_module_version": "1.1.0",
      "model_name": "VBoxModel",
      "state": {
       "_dom_classes": [
        "widget-interact"
       ],
       "children": [
        "IPY_MODEL_d463440f35d04d3897527fb77a258251",
        "IPY_MODEL_d36e2c78ccc14a07aa201a8260c3ad34",
        "IPY_MODEL_6dac17aaa8464e2cbeb3d1e632168170",
        "IPY_MODEL_40ccc14f06574755a49bf17df4b0fbe9",
        "IPY_MODEL_a53b45eecf704dfd80cceb52fa786d10"
       ],
       "layout": "IPY_MODEL_c38435ec95e441d9ada081e06b01a669"
      }
     },
     "9f9f3e3972c9433288776e7e62b99b50": {
      "model_module": "@jupyter-widgets/base",
      "model_module_version": "1.0.0",
      "model_name": "LayoutModel",
      "state": {}
     },
     "a53b45eecf704dfd80cceb52fa786d10": {
      "model_module": "@jupyter-widgets/output",
      "model_module_version": "1.0.0",
      "model_name": "OutputModel",
      "state": {
       "layout": "IPY_MODEL_dd4a6aae2a6f4cb5a70672ee419e977f",
       "outputs": [
        {
         "data": {
          "image/png": "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\n",
          "text/plain": "<matplotlib.figure.Figure at 0x150fd638d0>"
         },
         "metadata": {},
         "output_type": "display_data"
        }
       ]
      }
     },
     "acef9af409d842b9aa8af50e73300308": {
      "model_module": "@jupyter-widgets/controls",
      "model_module_version": "1.1.0",
      "model_name": "FloatSliderModel",
      "state": {
       "description": "distance",
       "layout": "IPY_MODEL_038bb889b7d540af8b76d3dcd810edd1",
       "max": 10,
       "min": 0.5,
       "step": 0.1,
       "style": "IPY_MODEL_468fe8cf2c754d6eb0e1d081207e0592",
       "value": 10
      }
     },
     "adf0314fdf4146ca8b04eaafda40b453": {
      "model_module": "@jupyter-widgets/base",
      "model_module_version": "1.0.0",
      "model_name": "LayoutModel",
      "state": {}
     },
     "af43cbe7801d49d5bffac52cbd4a6618": {
      "model_module": "@jupyter-widgets/controls",
      "model_module_version": "1.1.0",
      "model_name": "FloatSliderModel",
      "state": {
       "description": "omega",
       "layout": "IPY_MODEL_6ba432b20c53479a96d2dbc438b3392c",
       "max": 3.6,
       "min": 1.5,
       "step": 0.1,
       "style": "IPY_MODEL_384840d870bf48cb86ae77eee8a6a901",
       "value": 2.1
      }
     },
     "b19474bab86c4548bfbaabe8cd7b0109": {
      "model_module": "@jupyter-widgets/base",
      "model_module_version": "1.0.0",
      "model_name": "LayoutModel",
      "state": {}
     },
     "b1bb588563364ff1964d9e06170198e2": {
      "model_module": "@jupyter-widgets/controls",
      "model_module_version": "1.1.0",
      "model_name": "SliderStyleModel",
      "state": {
       "description_width": ""
      }
     },
     "b86b1f808ffc4af097caac21ec388312": {
      "model_module": "@jupyter-widgets/base",
      "model_module_version": "1.0.0",
      "model_name": "LayoutModel",
      "state": {}
     },
     "bc9b2d8d3ae34e40b25d8b5c58438191": {
      "model_module": "@jupyter-widgets/controls",
      "model_module_version": "1.1.0",
      "model_name": "FloatSliderModel",
      "state": {
       "description": "omega",
       "layout": "IPY_MODEL_ef7636b8b9cf45eb8938d20a60657d48",
       "max": 3.6,
       "min": 1.5,
       "step": 0.1,
       "style": "IPY_MODEL_6fd8c0691c3d4127a5ccb9350cf6ca42",
       "value": 2.1
      }
     },
     "c38435ec95e441d9ada081e06b01a669": {
      "model_module": "@jupyter-widgets/base",
      "model_module_version": "1.0.0",
      "model_name": "LayoutModel",
      "state": {}
     },
     "c5c93cb763304ff3aa2181270760c48b": {
      "model_module": "@jupyter-widgets/controls",
      "model_module_version": "1.1.0",
      "model_name": "FloatSliderModel",
      "state": {
       "description": "mass",
       "layout": "IPY_MODEL_d6e4f7106ec2455fb9c109751787a709",
       "max": 1000,
       "step": 0.1,
       "style": "IPY_MODEL_72939bff67b14e29afe79688774c8be2",
       "value": 500
      }
     },
     "c775942aa3a841079ddfe51fff1dfe50": {
      "model_module": "@jupyter-widgets/controls",
      "model_module_version": "1.1.0",
      "model_name": "SliderStyleModel",
      "state": {
       "description_width": ""
      }
     },
     "c7c6ec51cc314934a4f7641746f4f347": {
      "model_module": "@jupyter-widgets/base",
      "model_module_version": "1.0.0",
      "model_name": "LayoutModel",
      "state": {}
     },
     "d0ee32fc126a47ea92f1a1c57658dc1a": {
      "model_module": "@jupyter-widgets/output",
      "model_module_version": "1.0.0",
      "model_name": "OutputModel",
      "state": {
       "layout": "IPY_MODEL_b86b1f808ffc4af097caac21ec388312",
       "outputs": [
        {
         "data": {
          "image/png": "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\n",
          "text/plain": "<matplotlib.figure.Figure at 0x10bbe7940>"
         },
         "metadata": {},
         "output_type": "display_data"
        }
       ]
      }
     },
     "d36e2c78ccc14a07aa201a8260c3ad34": {
      "model_module": "@jupyter-widgets/controls",
      "model_module_version": "1.1.0",
      "model_name": "FloatSliderModel",
      "state": {
       "description": "length",
       "layout": "IPY_MODEL_62b1dd6696ef4269b23f5498a339879a",
       "max": 10,
       "min": 0.5,
       "step": 0.1,
       "style": "IPY_MODEL_2108e2de3f164696b919c6f4353f5290",
       "value": 3
      }
     },
     "d40065a323744f9da74bccbb55333d0f": {
      "model_module": "@jupyter-widgets/base",
      "model_module_version": "1.0.0",
      "model_name": "LayoutModel",
      "state": {}
     },
     "d463440f35d04d3897527fb77a258251": {
      "model_module": "@jupyter-widgets/controls",
      "model_module_version": "1.1.0",
      "model_name": "FloatSliderModel",
      "state": {
       "description": "omega",
       "layout": "IPY_MODEL_79a737f5b80849d7bc68cbbdb6f29a01",
       "max": 3.6,
       "min": 1.5,
       "step": 0.1,
       "style": "IPY_MODEL_b1bb588563364ff1964d9e06170198e2",
       "value": 2.1
      }
     },
     "d6c6261a3b6241248db7808daa9b82be": {
      "model_module": "@jupyter-widgets/controls",
      "model_module_version": "1.1.0",
      "model_name": "FloatSliderModel",
      "state": {
       "description": "omega",
       "layout": "IPY_MODEL_8d5247ca92c44590907c4380cf2ced58",
       "max": 6,
       "min": 1,
       "step": 0.1,
       "style": "IPY_MODEL_c775942aa3a841079ddfe51fff1dfe50",
       "value": 2.1
      }
     },
     "d6e4f7106ec2455fb9c109751787a709": {
      "model_module": "@jupyter-widgets/base",
      "model_module_version": "1.0.0",
      "model_name": "LayoutModel",
      "state": {}
     },
     "d8575d5c7a3a4108a96d8cf0c1ac64e0": {
      "model_module": "@jupyter-widgets/base",
      "model_module_version": "1.0.0",
      "model_name": "LayoutModel",
      "state": {}
     },
     "dd4a6aae2a6f4cb5a70672ee419e977f": {
      "model_module": "@jupyter-widgets/base",
      "model_module_version": "1.0.0",
      "model_name": "LayoutModel",
      "state": {}
     },
     "e7be2052f0e74365b59917351b724a4d": {
      "model_module": "@jupyter-widgets/output",
      "model_module_version": "1.0.0",
      "model_name": "OutputModel",
      "state": {
       "layout": "IPY_MODEL_f8ce068fe2e249ccb10c46c096879481",
       "outputs": [
        {
         "data": {
          "image/png": "iVBORw0KGgoAAAANSUhEUgAAAssAAAHVCAYAAAAHPLatAAAABHNCSVQICAgIfAhkiAAAAAlwSFlzAAALEgAACxIB0t1+/AAAADl0RVh0U29mdHdhcmUAbWF0cGxvdGxpYiB2ZXJzaW9uIDIuMS4yLCBodHRwOi8vbWF0cGxvdGxpYi5vcmcvNQv5yAAAIABJREFUeJzs3Xl83FW9//H3mT1pkibN1p200EIrLQUKKAURECyCBepSUBRErRaQRRHxulwe915/1ntRuKyCetlB5ApYZLkIFJFNKLRQoUAXSind0o2mTTLr9/fHZyYzSfOlhWaZJK/n43Ee32UmM9+0SeY9Z875HOd5ngAAAADsLNDbFwAAAAAUK8IyAAAA4IOwDAAAAPggLAMAAAA+CMsAAACAD8IyAAAA4IOwDAAAAPggLAMAAAA+CMsAAACAj1BvX0Chmpoar6Ghocefd0XjDknS2NpBPf7cAAAAA1Fv56+XXnppo+d5tbu6X1GF5YaGBi1YsKDHn3fWDc9Jku7+9id6/LkBAAAGot7OX865d3bnfgzDAAAAAHwQlgEAAAAfhGUAAADAB2EZAAAA8EFYBgAAAHwQlgEAAAAfhGUAAADAB2EZAAAA8EFYBgAAAHwQlgEAAAAfhGUAAADAB2EZAAAA8EFYBgAAAHwQlgEAAAAfhGUAAADAB2EZAAAA8EFYBgAAAHyEevsCCq1o3KFZNzzX48/7+tptktQrzw0AADAQ9ZX8Rc8yAAAA4MN5ntfb19Bm6tSp3oIFC3r8eXPvaO7+9id6/LkBAAAGot7OX865lzzPm7qr+9GzDAAAAPggLAMAAAA+CMsAAACAD8IyAAAA4IOwDAAAAPggLAMAAAA+CMsAAACAD8IyAAAA4IOwDAAAAPggLAMAAAA+CMsAAACAD8IyAAAA4IOwDAAAAPggLAMAAAA+CMsAAACAD8IyAAAA4IOwDAAAAPggLAMAAAA+CMsAAACAD8IyAAAA4IOwDAAAAPggLAMAAAA+CMsAAACAD8IyAAAA4IOwDAAAAPggLAMAAAA+CMsAAACAD8IyAAAA4IOwDAAAAPggLAMAAAA+CMsAAACAD8IyAAAA4IOwDAAAAPggLAMAAAA+uiwsO+eCzrmFzrm/ZI/HOOf+4Zxb6py72zkX6arnAgAAAHpCV/YsXyBpScHxLyVd4XneOElbJH2jC58LAAAA6HZdEpadcyMlnSjpd9ljJ+kYSf+bvcstkk7piucCAAAAekpX9SxfKekSSZnscbWkrZ7npbLHqyWN6OwLnXOznXMLnHMLGhsbu+hyAAAAgD23x2HZOXeSpA2e571UeLqTu3qdfb3neTd6njfV87yptbW1e3o5AAAAQJcJdcFjTJM0wzn3WUkxSRWynuZK51wo27s8UtKaLnguAAAAoMfscc+y53k/8jxvpOd5DZJOk/SE53lfkTRf0heydztT0p/39LkAAACAntSddZZ/KOl7zrllsjHMv+/G5wIAAAC6XFcMw2jjed6Tkp7M7q+QdGhXPj4AAADQk1jBDwAAAPBBWAYAAAB8EJYBAAAAH4RlAAAAwAdhGQAAAPBBWAYAAAB8EJYBAAAAH4RlAAAAwAdhGQAAAPBBWAYAAAB8EJYBAAAAH4RlAAAAwAdhGQAAAPBBWAYAAAB8EJYBAAAAH4RlAAAAwAdhGQAAAPBBWAYAAAB8EJYBAAAAH4RlAAAAwAdhGQAAAPBBWAYAAAB8EJYBAAAAH4RlAAAAwAdhGQAAAPBBWAYAAAB8EJYBAAAAH4RlAAAAwAdhGQAAAPBBWAYAAAB8EJYBAAAAH4RlAAAAwAdhGQAAAPBBWAYAAAB8EJYBAAAAH4RlAAAAwAdhGQAAAPBBWAYAAAB8EJYBAAAAH4RlAAAAwAdhGQAAAPBBWAYAAAB8EJYBAAAAH4RlAAAAwAdhGQAAAPBBWAYAAAB8EJYBAAAAH4RlAAAAwAdhGQAAAPBBWAYAAAB8EJYBAAAAH4RlAAAAwAdhGQAAAPBBWAYAAAB8EJYBAAAAH4RlAAAAwAdhGQAAAPBBWAYAAAB8EJYBAAAAH4RlAAAAwAdhGQAAAPBBWAYAAAB8EJYBAAAAH4RlAAAAwAdhGQAAAPBBWAYAAAB8EJYBAAAAH4RlAAAAwAdhGQAAAPBBWAYAAAB87HFYds6Ncs7Nd84tcc695py7IHt+iHPur865pdlt1Z5fLgAAANBzuqJnOSXp+57nTZD0cUnnOucmSrpU0uOe542T9Hj2GAAAAOgz9jgse5631vO8l7P7TZKWSBoh6WRJt2TvdoukU/b0uQAAAICe1KVjlp1zDZIOlPQPSfWe562VLFBLqvP5mtnOuQXOuQWNjY1deTkAAADAHumysOycK5P0J0kXep63bXe/zvO8Gz3Pm+p53tTa2tquuhwAAABgj3VJWHbOhWVB+Q7P8+7Nnl7vnBuWvX2YpA1d8VwAAABAT+mKahhO0u8lLfE879cFN82TdGZ2/0xJf97T5wIAAAB6UqgLHmOapK9KWuycW5Q99y+S5kr6o3PuG5JWSfpiFzwXAAAA0GP2OCx7nve0JOdz87F7+vgAAABAb2EFPwAAAMAHYRkAAADwQVgGAAAAfBCWAQAAAB+EZQAAAMAHYRkAAADwQVgGAAAAfBCWAQAAAB+EZQAAAMAHYRkAAADwQVgGAAAAfBCWAQAAAB+EZQAAAMAHYRkAAADwQVgGAAAAfBCWAQAAAB+EZQAAAMAHYRkAAADwQVgGAAAAfBCWAQAAAB+EZQAAAMAHYRkAAADwQVgGAAAAfBCWAQAAAB+EZQAAAMAHYRkAAADwQVgGAAAAfIR6+wIAAMjJZKRkUkqlpHS6fctkJOekQCC/zbVwWIpGpWCwt78DAP0NYRkAsEcSCamxUdq0SdqyZee2bZu0fbvU1NR+u2OH1NoqxeO2bW21x9oTwaAUiVhwjkal0lJp0CCprMy2uf2KCqmqSqqstJbbHzJEqquTamulWKxr/n0A9G2EZQDATtJpC8Br1lhbuza/v2GDtcZG277/vv/jOGfBtLzcQmp5ubXRoy3IlpRYqI3FrEWjFnZDIQu+hS2QHTiYyVjzPNum09YbnUhY8I7H8/vNzflgvn27tHGjhfVt26StW60H209ZmYXmujqpvl4aPnznNmKEVF1t3yeA/omwDAADUDwurVwpvf229M470qpV+e2qVdLq1RZCO6qtlYYOte3BB+fDZG2thcaqqvatoiIfcouN51mY3rLFgvOWLdLmzfk3AoVt5Urp2WctbHdUWirttVf71tAg7bOPtaqqnv7OAHQlwjIA9FM7dkhvvWVt6VJpxQpry5dL771nYTEnGJRGjrSgd+SR0qhRdlzYi1pfb2OD+wvn8kMzRo7cva+Jx6V166yH/b337E3FO+/k24sv2nCUQkOG5IPzPvtI++4rTZhg29LSrv++AHQtwjIA9GGeZ0MkXn/d2pIlFo7ffNPCXKFhw6SxY6Wjj5b23tv2x461gDxsGJPjdkc0mu899rN9u/VEL18uLVuWb88+K/3hDzZ0RLKwvtdeFpwnTJD231+aNEn62MdseAqA4kBYBoA+YtMm6dVXrf3zn/mAvHVr/j6VldZjeeyx0vjx1vbd18LxoEG9d+0DSVmZBd/999/5tnjcevmXLJHeeMO2S5ZITz4ptbTYfQIBadw4C86TJ0tTpkgHHWS9+4yNBnoeYRkAikw6bb3DL7+cD8evvmof/efU1FgP5OmnSxMn2v7EiTZ+mEBVvKLRzoN0Om1DZBYvtv/rxYulRYukP/0pP1ymvt5C80EH2XjxqVNt+Aj/30D3IiwDQC9KJqXXXrNgnGuvvGITzySrDDFxovTpT1svY67V1/fudaNrBYPWmzxunDRzZv789u0Wnl96yX42XnpJevTR/OTLYcOkww7Lt6lTrdoIgK5DWAaAHpLJWI/xiy/m26JFVl9YspAzZYr0rW9JBx5obcKE/jWpDh9OWZl0+OHWclpaLEC/+KL0j39Yu/9+u80567WeNk064ghro0fT+wzsCcIyAHSTTZssyDz/vLUXXsjXJB40yD5OP+cc6ZBD7GP1vfcu3jJrKB4lJfme5PPOs3ObN9vP1/PPS889J91xh/Sb39htI0fmw/OnPmWfVPBzBuw+wjIAdIFMxibbPfOMteeft4lckgWTyZNtfPGhh1o4njCB6hPoOkOGSNOnW5NsmMbixdLTT9vP49NPS3ffbbfV1FhozrWJE+l5Bj4IYRkAPoKWFvsYPBdGnn02X5Wirk76xCeks8+27cEH28fpQE8JBm1Iz5Qp+d7nlSut6sb8+db+93/tfF2ddMwx0nHHWRs1qreuGihOhGUA2A1NTRaIn3rK2gsv2JLKkvUSf+EL9jH3tGk2nIKeOhSbhgbprLOseZ6F5/nzpSeekB5/3GpAS1ZuMBecjz7aVmEEBjLCMgB0oqlJ+vvfLUz87W9WiSCdth67gw+Wzj/fVrqbNs2WeQb6EuekMWOsnX22hefXXpP++ldrN90kXXutFArZm8ATTrC2//68EcTAQ1gGANnS0M88k/+IesECC8eRiI0zvvRS6aijbFgFQyrQ3+SqaOy/v3TRRfapybPPSo88Ij38sPTDH1obMcLGRZ94ovU887uAgYCwDGBASiZtzPHjj0uPPWYVBJJJ60nLheOjj7ZwXFra21cL9KxIJD8BcO5cWzo9F5zvuUf6/e9tgZVjjpE+9znppJMY64z+i7AMYEDwPFte+NFHLSA/+aQNtXDO6hlfdJG98E+bRm8Z0NGIEdI3vmEtmbQhSg88YO2cc6xNmSLNmGGLqkyezHAN9B+EZQD91saN1mv86KM2DnP1aju/zz7SV74iHXus9R4z5hjYfeGwvbE85hjp17+2N6G54Pzv/y7927/ZWOhTT7X2iU/07TKJXsZTpjWjTDwjL+Epk8xuExl5SU9ewpOX9uSlstu0J6Vl+5nsWuVeQcsJSHKSC7j8Nii5kNupBcIBuahTIBJQIBqQizjbhp0c70q6HWEZQL+RTFp940cekf7v/2xSnudJVVUWjI8/3sZZNjT09pUC/YNzVg1mwgTpkkuk9eulefOk++6Trr7awnRdnXTKKdIXv2jDOkLdkDw8z1MmnlH6/bRS21JKvZ9Sepvtp5vS1rZnW25/R1rp5rQyOzK2bc5vM/GMBeRWC8RFy0mBWECBEmvBkqDtlwYULAsqOCi487YiqNDgkG0r8ttQZUihqpCCZUECeAeEZQB92rvvWjh+5BHrRd62zXqxPvEJ6+E6/nirXtGXe7aAvqK+3pZr/9a37HfxoYeke++Vbr9duvFGWxDl1FOlL32p8+DsZTwlNyeV3JhUanNKyU35bW4/tTWl5JakUltTSm2x49TWlLzEboRaJwXLs8GxNKjAoIAFyNKgwjVhO5cLn7Fsi9o217PrItltOL91IScXzPYMB7PHAdfWeyzJAqjLHmd7mb2Ml99mbOulOmm5nuy4bTPx7H48o0xLRumWtDItGQv8LdngvyOt5Mak0tuzbwiybxC0q3+moCw4V4YUrgorNCSkcE1Y4epsqwkrVB1SpDaicG1Y4To7Fwj132UhCcsA+pREwqpWPPywvRC/9pqdHzVKmjXLZuofe6w0eHDvXicw0FVUSLNmefr8Z1LaujKhhx+Q7v2/oO64JaLf/jagqlhKxw7dpuPKN2lScosyG5NKbk5KGZ8HDMrCW5X1gIYqQ4o1xNqCXWhwKN9jOjjUrtc0WBZUsNx6XQdyr6mX8ZRuTud73XPb99P5NyFbUm0tucXeoLQsa1FyU1Lp99O+jx0aElKkLqJwXViRYRFFhlqLDova/rCIoiOiCg0J9bn/A8IygKK3Zo0F44cftrHHTU02bvKTn5S+/nWr/zphAhOKgJ6SSWWU3JBUYm1C8TXxdtvEuvYt1+M7WtKFkuYooH9oiJ7y6vXgO0P0v94Q1caS+uy47Tr5cy2aekBGkVrrxQwNCbVtQxUh663FR+YCTqGykEJlIUWHRz/012dSmXxPf6O1xIaE/SzktusT2v7ydiXWJZRu2jlcu6hTdHhU0RFRNR+8Qy4SUKIxoUhtpCu+xW5BWAZQdDIZq3P8l79YW7jQzo8cKZ1+uvTZz9rkovLy3r1OoD9Kt6QVXx1X/N244u/Fbf+9uBLvJfL76xM79wA7KVyT71Us3a+0rXcxUhdRuD6sSL3tH1cdUiAUUHOz/Y7fdVdYdz1UpVsWV2nsWOm006QzzrA3wSgegVBAkTr7P9Ru/N+kd6Tb3jTF18SVWJOwn6lsSzellYmndj00pJcRlgEUhaYmq1rxl79YL/KGDVIgYGOPf/ELWwSB1cOAPeOlPcXXxhV/J67WVa2Kr8pu37Vw3Ppuq1KbUjt9XagypMiIiKIjoxo0eZCiI6L2sfrwqCLD7SP2SH1EgfCHG7daWmrjl7/0JWnrVpsY+Ic/WG3n//f/bL7BGWdYeB46tKv+FdBTgoOCKtm7RCV7l3R6e/kNz0mSwrXhnrysD42wDKDXrFxp5ab+8here5xISJWVNqzixBNt/DFl3YDdl0lkLPSubFXrO607beOr41KHT8ZDlSFFR0cVHRlV+WHlio2KKTrKjqMj7ePy4KDunyFbWWnDqr7+dWndOgvNt99uNdC//32brHvGGTZBkIWC+pdiH8NMWAbQYzIZWzVv3jxr//ynnd93X+n8820VsGnTuqe0FNAfeBlP8ffian27VS0rWiwEv51tK1sVfy/efnhEQIqOiCrWENPgIwYrtldMsb1iio6OKjbaQnGovPh+4YYOlS680NqSJRaa77jDwnJ5ufVEn3WW/b0o8pyFfqD4fkMA9CvNzbZi3rx51ou8fr2VcTvySOlXv7KlcseN6+2rBIpHekdaLctb1LK8Ra0rsqF4RT4ctyuR5rJheExMlUdXKtYQa9eiI6MfemhEsZkwQfr5z23Bk7//XbrlFut1/v3vpb33ls48U/ra16S99urtK0V/RVgG0OU2bLChFX/+s1WvaGmxMlInnGDL4Z5wgi0UAgxUyc1JtSxrybfl+W1yfbLdfUOVIcXGxlQ2uUw1p9SoZGyJYmNjio2JKTY6pkCkb4fh3RUISEcdZe2qq6x+8803Sz/7mbVjj7XluE89VYrFevtq0Z8QlgF0iaVLpfvvt4D87LO2ct7o0fbidfLJVuYtUryVgYAu5XmekpuygXhpthWE49SW9pPooiOjKtmnRNUnVrdNiIrtHVPJ3iUKVxX35KfeUFZmvclf+5rNfbjlFummm6Qvf9neiH/lK/a3Z8qU3r5S9AeEZQAfSa682/33W1uyxM5PmWK9PKecIh1wAOMJ0b8ltyYtCL/VoualzflgvLRFqa0FgTggxfaKqWSfEtWdXqeSfSwQl+xTotiYmIIlLDH5UTU0SP/6r9JPfyo98YQNz7jxRumaa6SDDpK++U0L0SxUhI+KsAxgtyUSVrUi14O8Zo2NP/7kJ6XvfMd6kBk3iP4m3ZK2HuG3WtT8lgXi5rea1fJWi5KNBUMmnBQdHVXp+FLVfblOJeMsDJeOK1WsIaZAdGAMl+gtgYD06U9b27zZJgT+7nfSOedIF19sNdpnz5YOOYQ38fhwCMsAPlBTk/TII1b/9MEHpW3brGzT9OnWe3ziidKQIb19lcCe8dKeWle1tgXi5jeb2/bjq+LtFk2IDIuoZHyJjR8eV6LS8aUqGWfjiIMxeoiLwZAh0ne/K513nn0CduON0l13Wa/zAQdI3/qWVdagtxm7g7AMYCcbNlj1ivvvlx57TIrHpZoa6fOft8kzn/60VNJ5jXmgqCW3JtXyZoua32xuay1v2hAKL55PxMHyoEr3LdXgaYNVeraF4dJ9bVuMpdbQOeesJ/mQQ6z6zl13STfcYCH6kktseMacOTZcA10n43namkqpMZnUhkRCjcmktez+xuzxiqYmJT1PjYmEaot4Ugu/8QAkSW+/bb3H990nPfOMTdDbay97ITn1VOnww6l/jL4hk8qodUVr+zCc3U9uKBg2EZRKxloIrvpMlUr3LbVe4n1LFKmPFP1CCfhwKiqkb3/b2oIF0m9+kx+qceih9rdu1iw6AjrjeZ62p9Nan0hoQzYAb8gG3rb9gnONiUTHtW/alAeDqg2HVRsOKxIIqMy5Yl/tmrAMDFSeJy1enA/Ir7xi5ydNsokyp57KBD0Ut+TmpJrfyPcQN79hwbhleYu8ZP7lN1wTVul+par+XLUF4myLjRk4ZdfQ3tSpFpIvv1y67Tbp+utt5cDvfc8WOznnHGmffXr7KrtX2vO0KZnU+kSiLQQXbjsG49ZMptPHqQgGVReJqC4c1t4lJfp4RUVbGK6NRFQbDqsuu18TDisayP/OzVpgy13XFXGvskRYBgaUTEZ67jkLx/ffLy1fbmH48MPtReOUU6zIP1AsMsmMWt9ubQvDbT3FbzQruTHfS+zCzoZKTCi1scT7lrSF4vAQSq+hc5WV+bHNTz1lofnqq6UrrrB5Geeea3Xhg31kKHoqk9HGZFLrEgmtLwi96zs5bkwm1Vn8DTmnunBY9dkAPLG0tC0M587VRiKqz24Lw29/RVgG+rlEwsop3XefVbBYv14Kh62A/yWX2CIhQ4f29lVioEtuSrbrIc6F4pZlLfJSBb3EdWGV7luqmlNrLAzvZ8MmYg0xBUL9/0Ub3cO5/IIna9dKv/2tjW3+3OekMWNsiMbZZ0vV1T1/bWnP08Zs0F2XDbrttrlwnEhoYzLZ6ZCGkkBA9dmA2xCL6bCKirbgWx+JtN1WF4moKhRiCFIHhGWgH9q+XXr44fYVLMrKrIfk1FOlz36WWeDoeZlERi0rWtpPsMsG49SmfE1iF3ZWcq2wl3i/bC8xC3Sgmw0bZrXif/Qj+wTu2mutY+FnP7PFTs4/X5o8ec+ew/M8bUmltC4beAvDb8cgvCGR6LQHOBeAh0Yi2jsW07RsAM61odkAXB+JqCwYJADvAcIy0E9s3GgVLO67z5aYzlWw+MIX8hUsWAIW3c3zPCXWJywQv9V+gl3LihYVzvoJ11svce3MWqs0kQ3F9BKjGITD0he/aG3xYgvNt95q5eeOOspC84wZ+YnPnuepKTsJrtMAnO0Bzp1Pejv3AUecawu6o2MxHZoLwOGwhuYCcLaVE4B7DGEZ6MNWrsyvoPf3v9uY5NGjbYGQU0+Vpk2jggW6R3pHum1hjnah+K1mpbflE7GLOpWOK1XZAWWq/VJt2zjikvElClfSS4zityOd1qB9EvraLxM6/HtJ3X9bWE/cVKrPfz6skmEJ1X6xUd5n12hjSYtaOpkEF5RNYMuF3f0HDWrr9e0YgBkCUZx4GQX6kFwFi/vvtx7kRYvs/KRJ0o9/bBP0DjyQChboGplEdnLd0ub2q9e92azEe4l2942Oiqp031LVf7W+XQm22OiYXIAfSBSX5oIe4MLJb23HBb3B29MdiqAdK+lTUsWL9Ur/aYRWXTVCwRuHaf9Tm3TcN3bogI8F2sLvsEhE1eGwAvxR7tMIy0CRS6elZ5/N9yCvWNG+gsXJJ/f/EkfoPm0r1y1tyS/jnN1vebv9sIlQdUil40pV9ekqC8Pjswt17F2iYGkfKReAfsnzPL2fSu1U9syvEsQOnzJo1aFQ2zCIQysq8r2+2bG/uZ7g2nBYoWMD0qXWgfHf/x3Q7bcP1it3Ddb06dKFF0qTjqfjor/o9rDsnJsu6b9ln0T8zvO8ud39nEBf19JiK+fdf7+NQ964UYpEbNzxpZfaDG0qWGB3tQXiZdkQvKwlv7+iRV4iP3YyMChgwyYOLFPtrNp8KB5XqnA1wybQcxLZMmi5Or8bEjvXAt5QMAku0ckYYCepJlfxIRzWxysqVNch/OZ6gevCYYU/Qhm0SZOsZvMvfmEVNK691srOTZhgofmrX2Whk76uW8Oycy4o6VpJx0laLelF59w8z/Ne787nBfqijRutcsX990uPPio1N1vFihNPtOEV06dL5eW9fZUoVpl4Rq3vtKpleUEYzrbWt1vbLdIRKAlYtYmJpaqeUW31icdZKI4MZeU6dI9cDeDGZLJtxbfGjqvAFSyPvCWV6vRxcpPg6rKlziaVlam2IBDXRyJtgbgmHFaoh+oA19ZKP/mJVc744x+tVvO3v21D5ObMsYVO6OTom7q7Z/lQScs8z1shSc65P0g6WVLRhOVtOxJqXNUsL+J024PLlaoPKVMXlsL2YpF7yXC55lx+P3sc6LAf+IBtsONxdj+Y3Q8W7IcKt7JC4YUtWLDPi1vftGKF1T7+85/zE/RGjLAVpE4+WfrUp6xHGZCk5JakWldkA/GKFrUuz+4vb1H83bgKC6wGy4Iq2adEZZPLVDuzVrG9YxaI9ylRZDiBGHsmt/zxxmSyXWss2DZm6/7mArFf+M31/uYWu5hSEH7rCkJxXXZVuMFFPgkuEpHOOMPKzP3979Kvfy39x39Iv/ylnbvoIuuNRt/R3WF5hKR3C45XSzqs8A7OudmSZkvS6NGju/lydrZxVbPCb9tElVGX2aVmnLS1Uto8RGqsse1Gn226SEZ9B2RhOlwQoMOBQLtz4VwLBPL7zimSPW7bZu8T6XAuUnAu4pyigUC7c9HctvD27LatFRwPxAkPmYz04osWjufNk157zc5PmiT9y79YQD74YMa5DVTp1rTi78TV8rb1Buday4oWta5oVWpr+7ARrgurZO8SDT5ysEr2Lsm3cSUK14aLOlCgeGSy4303JZPalN1uzu5vTCa1qSAMF+53NuxBsteimmyvbm04rCllZRaGs2N9Oy6FXB0OK9gPf1adkz75SWtLl0pXXinddJO1446TLr7Ytv3wW+93ujvqdfYj0O63y/O8GyXdKElTp07t/DevG40aV67YYeXyEhkN+8I4pdYmlFqXVOXahEZm99OLEkqvT6qzquCBmpACQ8PWhkXk6kNyQyNyQ8NSfUiqD8urDykTdcrI/ijltmnZyjyF+20te5zKHqcK2k7HkpKZTLtzyYJt234m03aczB63ZDJ6P51uuy3heUoU3C+RybSd63w6xEcXzgbnWEGIjmWDdLutc4pl93e3lQSD7Y872f8oY9M+iuZm6fHHpQcesLZunS2d+slPSt/8ptXbGfj8AAAgAElEQVTpHDu2Ry4FvSwTz6j13Va1ruykvd2qxJr2FSZcxCk2JqaSsSWq+ESFSsaWKDbWjmNjYgqVF8m7dRSFVCajramUtqRS2pxKaUsyqc2plDZnt1s6BOHNBbf7/X13kqrDYVWHQqoJhzUmFtPU8vK2MNxZqyzynt/eMG6cjWX+93+3cc1XXy195jPWUXLxxdJpp/EpYjHr7r+0qyWNKjgeKWlNNz/nhxIOBRWLBaVYUPvOHOZ7Py/tKbEhocTahOJr4kqs7bC/JqH4km1KrEu0mz2eE6oMKTIsosjQiG2HRRQdFs0fD7UWqirePzLpbMCOdwjR8cL9gnNxz7PtLo5bs8etnZzfnEyqtcN92o59ejV2V1BqC9UlBUG6JBu2OzvX7rjgfh2Pt68P6vn/C+upR0J6dn5ALS1O5eWeTjjBacYMW0Gvqqpr/l9QHDzPU2prSvFVcbWuarXtO622/47tJ9Yl2ncXBKXoyKhiDTENOX6IYmNiba1kTIkiwyKUXRtAMtlFLd5PpfR+KqWtBdstHba5/S3Z4Q1bUik1dSxx1kF5MKjqcFhDQiENCYe1VzSqIdnj6mwPby4YD8nuV4ZC/bLXt7cMGWIrA37ve9Jdd0m/+pV05pl27vzzbYxzZWVvXyU66u6w/KKkcc65MZLek3SapC9383N2Cxd0ig6LKjosqvKD/GdZeRlPyY1JC9Jr86G68Hjb89uUWJtQpmXn9/Iu4tqCc1urb78frg9bsC7r2V6loHMKBoMqlkXgMgXhu6VDkG7p5HxLJqOWdLr9cSe35c43JpM7ncvdf+eLkbS0THq+WnquWnqzzM4PbZGmb5IO36SmA7bq3oj0cCCgktcDKvUJ2oXHpbsI5Z0dxwrORRjP3mVSTSnF340rvjrb3o2r9d1WO7fK9jM72v9suIhTbHRM0b2iGjJ9iGJ7xRRryLfIiAgr1fUDGc/TjnRaTdm2LRtct6VS2lawfb9g23E/d7yrLoCyYFCVoZAqQyFVhULaKxbTlFBIVdlgW5Vt1eGwqrKhd0j2/j31aRp2LRq1uSlnnmkTui+/3Cod/cd/SN/6llXR6IWRqfDRrWnL87yUc+48Sf8n68j7H8/zXuvO5+xtLuAUqYsoUhdR2QFlvvfzPE/pbWnF18aVXJ+0IL0ukW9rE2p9p1Xb/rFNyQ1JdfYXNFAasCCdC9D19rzh+rBdQ31E4To7H6oM9bseqoBzFhKDQfXkG3EvG9I3NmX018ekRx50mv9IQI3rAnLO074Hp3Xwv+zQ5ONaVD0+qVbPqSVdpebM4LZQXhi+c8c7spNlmgtvz+5/1CEwTtopQHcWqv2GqrRtO7lPZy1asN9XeqMyyYwS6xP5T4jei7e1xHv548JV6XLC9WHFRsdUOrFUVZ+psmA8KqroqKhie8UUqadnuJhkPE+tmYya02ntyP7OtbUOx9sL2o5MRtvTaTWlUm3nmjpsd+dzrohzqgiFNDgY1OBQSBWhkMbGYhocCrW1yuztuUA8uCAYDybw9jvO2XCMz3xGeuUVC81XXWXttNOkH/xAOuCA3r5KdHvXpOd5D0l6qLufp69xzik0OKTQ4JC03wffN5PKKLkx2Raqk+uT9uKea+sSal3eqm3PbVOysfNgraAUqc2G57qIwrVhhevCCteE7XxtuK1FarPDQXiR38ny5dKDDzo99FBQTz4ZVDwuVVTYH7qTTpJOOMGptjYk+9Ua1CXP6WXHjxeG59ZOwvaujjv7ms2plFoTiXa97a3Z2z/4A91dCznXNt78g8aj+00A7ThBtHDSaLuJpdn9cMH5sHMK7/AU2JiWW5+UNiTlrU8pvS6pzPqEkuuSbcOoOvudcSFnw6OGR1Q6wRbhyIXg6MhsGx5VIEJw+TAyHeZCxDOZtuFbHfd3GqKVDbq5n892P68f8LPfnA3HzdlzH0ZA1pM7KBhUWTCo8ux2aCSifYJBlYdCKgsGVZG9rTwUarc/OBhURe5cKKQoQRcf4IADpNtuk37+c5sM+NvfSnfcYZMAf/ADq7PfR/og+h1mh/QBgVBA0aFRRYdGP7C3WrKx1clNFqaTG7LbxqQSG7LHjbZtebtFycZkp71l9qRSeEhYoeqQwjUWqsPV2ZbdD1WH2s6FhoQUrgorEO1fLwbxuPTUU9JDD1l76y07v+++VjPzc5+TjjhCCnfjWg2uoBrJ4FDP/cqmOgTojvudDXvpOL48d76zwBPPZLQlne50PHtbkCoYlx5OSJVb823w++2PK7dKQzbbtmqLFIvv/D2lA9KWKmlTtbSlWtpyqLS1xmlbjVNTTUDb6py21QXUUuUUCgUUchmFXKtCLt6+lOP7TqFt7Us9diz9mDvOlYoMOtdpOUknC2Udy1IGCo5zOhtS43UYu+/JRgV5nicve+xljztOMi6cbJwpmFxcuJ+bVNzZhOOk5+00sbhwgnBuInFu8nBqD+cZFIo41+6TjsJhTYOCQdWGwyrJni/tsM3dZ1D2XG5/UHa/LNtigQDDmNDjRo+2cnM//alNBvzv/5aOP1468ECr4fyFL0g9+FIAEZb7HRfMDwPZHZm49VonGi1Ut7VNSevNzrbWt1vV9EKTkpuS7Vb76igwKGAhOxueQ1WhthauCitUmT2uzLbBtg0ODio4KFgUL0wrVkiPPCI9/LD0xBNWzSIalY4+Wvrud6UTTpD23ru3r7L7hQIBlQUC+uC3Zx9eJp5R6v2UkpuTSm1JKbU5v5/cnFRqUyr/87cp/7PYcTxw/kIl1Ybl1QSVHh5SZlJQqZqgtlYHlagLKl4bVEt1QK21QbVUOiWUD3LpTEYlnqeQ56nc81TXSQDMVZLJBcdUNvAXhseO1WxSHQJpumDrqfPAWhhqC0PuR9GxFnxuP+gT1nPhPtBhP1QQ/EMFbwZy5ShLslVlcrflSk12LFHZsexk4ScAfp8kdPapRLRgKNBALD2JgaWqysYxX3SRdPvt0n/9l3T66VZm9Pvfl77+dam0tLevcmAgLA9wgWhA0RFRRUdEd+v+nucpvSOdDzTZ1i70FGyb32q227amlGnexUegQVl4rggpWBFUaHB2mzsuDylYHmxrbcdlFrSDZUEFBgXajgPh3evlbm6W/vY3C8iPPJLvPR471v4YTZ8uHXPMwP6j5HmeMq0ZpXekld6eVrop27L7qaaU0tvSSm1LKf2+bVPvZ/fft///XOtsYmuhUKV9mhGqtgoyg/YflP9ko2CoUG4/VFm8FWS6UmEPsqed63IOhH8DYCCKRqVvfMNej+bNs8VNzjtP+td/tQ6c886Tqqt7+yr7N8IyPhTnnEJlIYXKQort9eHqYmTiGaW2ppTckrQQlQtQhWFqWzZ0vW/bxNqEmt9oVnqbhbJM6+6POXRhp0BpQMHSoG0HBRUsDcrFAlqWLNXz71fo2Y1lemlDqZKZgKKhjD6+V6tO+2yLjvlYXGNHZBSMBeQ2OjXdF9D2iFMgEpALO7mIUyAckAu59i3s5IJOCqjd1gWccks9Oud2XhqysBvRywaj7OfpXtqTl/GktFVb8dKevFSHlsxvM4mMvET7/Uw8o0xrZudta0aZ5owyLRmlm9Ptt9vTSu9IK7PDzu3uLMNASaDdG51QZUjREdGdP1WoDNknEIWfRFSG7N8NOykMw/wLAQNPICCdcootXvXMMxaaL7tM+s//tAoa3/seFTS6C2EZPSYQzVfv+KgyyUy7ns1UU8rCXK7HM7fdnlamORv8mjNau9Hp2VUleu6dQXpuY7k2JW2Q8dhwsz5fsk5TtVmT01sVXpGSlkveQ9LyrvrGi5CLOgWiAQVi2TcTJQF7Q1FiATcwNPvmItsCgwqOC3v2ywqOs58A7G6PPgDgw3PO5soccYStAvuf/2kLnlx7rQ3TuOQSaf/9e/sq+xfCMvqUQDigQFVA4aoPnlHX1GRDKx57TPrrs9Lrr9v56mrpuM9b9YrjjpNGjCiVVCppuKTseNGU9cR68WyPbK53NpGxHtzC/XRBr25hy3htvcLteof9epB9epxdINtTHSzYDyjfi92hZzvX8x2IBKz3u2AbiFlzEWovA0B/8LGPSbfcYisDXnGFVdC47TarznTppdK0ab19hf0DYRn9Qmur9NxzNiHviSekF16QUikpFrNlpc86y8ruHHCAfZTlxzkLoYFwQF0+sw0AgG4werSF5Z/+1HqYr7oq3/t86aW2aix9JB8dYRl9UiIhvfii9OSTFo6fecbKvAWD0iGH5GtSHn64BWYAAPq7IUMsMH//+9L//I9V0DjpJBuW8cMfSrNmdW+p0/6KsIw+IR633uK//c0C8rPPSi0tdtuUKdK551rFiiOPtEVCAAAYqEpLrUrGt78t3X23NHeu9NWvSj/5iXTxxdLZZw/sCk8fFmEZRampyYZV/P3v0tNPS88/b0MtnJMmT7aZv5/6lIXjmprevloAAIpPOCydcYb05S/bwlq/+IWVm/u3f5MuuMAW16qq6u2rLH6EZRSFNWvah+OFC6VMxsYXH3ig9J3v5MPxkCG9fbUAAPQdgYANxzjpJHudnTvXepnnzrXX14sukoYP7+2rLF6EZfS4VEpavNiGUuTaypV2Wywmffzj0o9/bMH44x+Xyst79XIBAOg3jjzS2iuvWNm5X//aJgSeeaaVndtnn96+wuJDWEa38jxp9WrpH//It5deslXzJHsnO22afRx0+OE2/jjy0cswAwCA3XDAAdIdd1jZucsvtwmBv/+99IUvWAWNAw/s7SssHoRldKnGRgvDL70kLVhg4XjtWrstErFfvm9+03qMp02TRo2inA0AAL1l7Fjpuuts+ewrr7T9P/7R1iP40Y+s/OpAf50mLOMjW7/exhYvXJgPx++8k7993Djp2GOlQw+VDjvM3sVGo713vQAAoHP19TYB8NJLpeuvt7rNn/qUdW796Ec23vmD1inozwjL2KVUSlq2zMYZL1woLVpk23Xr8vfZe2/7hTrvPGnqVOtBHjy4964ZAAB8eIMHW2C+4ALppptsiMbJJ0sTJ1qt5tNPH3i1mgnLaON5VpXitdcsGOfa669b2TZJCoXsF+b44y0QT5lirbKyd68dAAB0nZISKy03e7YNy5g71yYB/vSnVqv5G98YOLWaCcsDUCplwyXeeMOC8JIl+e22bfn7DRsmTZpkC35MmmRt4kRWxAMAYKAIhaxO8+mnW63muXOl88/P12o+99z+X6uZsNxPpdNWhWLFChtC8dZb+bZ8uZRM5u87dKg0YYKt7jNxorX992exDwAAYJyTTjzR2tNPS7/8pfUy//KXtlLgRRdJI0b09lV2D8JyH5XJ2AS7VausvfOO9PbbFo6XL7e6xYWBOBq1CXcTJ9rYo/HjpX33tZDMIh8AAGB3HXGEtcWLrVbzlVdareavfU36wQ8sX/QnhOUi1NpqQXjNGum996wV7r/7rrVEov3XDR5sE+2mTJFmzrRyMHvvbW3UKCkY7J3vBwAA9D+TJkm33Wa1mn/1K+l3v7N6zaecYpMBDzust6+waxCWu5HnWfDdtk3aulXavFnatCm/zbX166UNG2y7fr3U1LTzY0UitoDH8OHSIYdIn/+8NHq0tNdeth09mkl2AACg5zU0SFdfLf3sZ7a95hrpvvus9NwPf2g1m/tyreYBH5Z37LCFNCTprrtseEM6bdtMxoYyJBLW4vH8fkuLrUK3Y0f77fbt0vvvW0Detq39UIiOAgEbAlFfb23qVNvW1dl2+HAb/zN8uFRd3bd/0AAAQP9WW2sT/y65RPrtb20p7RNOsHUWLrlE+tKXbMJgX9MHL7lrbdpklSAk6cs/3b2vCYWspEppqTRoUPvtyJHSxz5mQyIqKtpvq6utDRli24qKgVvgGwAA9E9lZTbh79xzpTvvtEmAX/mK9OMfS9//vnT22X2r7NyAD8vDhtmwBkm6/F8tvAYCNr7XORv+UNjCYQIuAADArkQi0lln2cS/v/zFQvN3vytddpltk9V9Y4GTAR+Ww+H8u5v+NnsTAACgtwUC0owZ1p55xkLzZZdJw75inZYbNtgQ1GJFHykAAAB6xLRp0rx5tlpwXZ20bl1vX9GuDfieZQAAAPSsiRPtE/199inuXmWJnmUAAAD0kr6wBgRhGQAAAPBBWAYAAAB8EJYBAAAAH4RlAAAAwAdhGQAAAPBBWAYAAAB8EJYBAAAAH4RlAAAAwAdhGQAAAPBBWAYAAAB8EJYBAAAAH4RlAAAAwAdhGQAAAPBBWAYAAAB8EJYBAAAAH4RlAAAAwAdhGQAAAPBBWAYAAAB8EJYBAAAAH4RlAAAAwAdhGQAAAPBBWAYAAAB8EJYBAAAAH4RlAAAAwAdhGQAAAPBBWAYAAAB8EJYBAAAAH4RlAAAAwAdhGQAAAPBBWAYAAAB8EJYBAAAAH4RlAAAAwAdhGQAAAPBBWAYAAAB8EJYBAAAAH4RlAAAAwAdhGQAAAPBBWAYAAAB8EJYBAAAAH4RlAAAAwAdhGQAAAPCxR2HZOfdfzrk3nHOvOufuc85VFtz2I+fcMufcm865z+z5pQIAAAA9a097lv8qaX/P8yZLekvSjyTJOTdR0mmSPiZpuqTrnHPBPXwuAAAAoEftUVj2PO9Rz/NS2cPnJY3M7p8s6Q+e58U9z3tb0jJJh+7JcwEAAAA9rSvHLJ8t6eHs/ghJ7xbctjp7bifOudnOuQXOuQWNjY1deDkAAADAngnt6g7OucckDe3kph97nvfn7H1+LCkl6Y7cl3Vyf6+zx/c870ZJN0rS1KlTO70PAAAA0Bt2GZY9z/v0B93unDtT0kmSjvU8Lxd2V0saVXC3kZLWfNSLBAAAAHrDnlbDmC7ph5JmeJ7XXHDTPEmnOeeizrkxksZJemFPngsAAADoabvsWd6FayRFJf3VOSdJz3ue9x3P815zzv1R0uuy4Rnnep6X3sPnAgAAAHrUHoVlz/P2+YDbfi7p53vy+AAAAEBvYgU/AAAAwAdhGQAAAPBBWAYAAAB8EJYBAAAAH4RlAAAAwAdhGQAAAPBBWAYAAAB8EJYBAAAAH4RlAAAAwAdhGQAAAPBBWAYAAAB8EJYBAAAAH4RlAAAAwAdhGQAAAPBBWAYAAAB8EJYBAAAAH4RlAAAAwAdhGQAAAPBBWAYAAAB8EJYBAAAAH4RlAAAAwAdhGQAAAPBBWAYAAAB8EJYBAAAAH4RlAAAAwAdhGQAAAPBBWAYAAAB8EJYBAAAAH4RlAAAAwAdhGQAAAPBBWAYAAAB8EJYBAAAAH4RlAAAAwAdhGQAAAPBBWAYAAAB8EJYBAAAAH4RlAAAAwAdhGQAAAPBBWAYAAAB8EJYBAAAAH4RlAAAAwAdhGQAAAPBBWAYAAAB8EJYBAAAAH4RlAAAAwAdhGQAAAPBBWAYAAAB8EJYBAAAAH4RlAAAAwAdhGQAAAPBBWAYAAAB8EJYBAAAAH4RlAAAAwAdhGQAAAPBBWAYAAAB8EJYBAAAAH4RlAAAAwAdhGQAAAPBBWAYAAAB8EJYBAAAAH4RlAAAAwAdhGQAAAPBBWAYAAAB8EJYBAAAAH4RlAAAAwAdhGQAAAPBBWAYAAAB8EJYBAAAAH4RlAAAAwAdhGQAAAPDRJWHZOXexc85zztVkj51z7irn3DLn3KvOuYO64nkAAACAnrTHYdk5N0rScZJWFZw+QdK4bJst6fo9fR4AAACgp3VFz/IVki6R5BWcO1nSrZ55XlKlc25YFzwXAAAA0GP2KCw752ZIes/zvFc63DRC0rsFx6uz5zp7jNnOuQXOuQWNjY17cjkAAABAlwrt6g7OucckDe3kph9L+hdJx3f2ZZ2c8zo5J8/zbpR0oyRNnTq10/sAAAAAvWGXYdnzvE93dt45N0nSGEmvOOckaaSkl51zh8p6kkcV3H2kpDV7fLUAAABAD/rIwzA8z1vseV6d53kNnuc1yALyQZ7nrZM0T9LXslUxPi7pfc/z1nbNJQMAAAA9Y5c9yx/RQ5I+K2mZpGZJX++m5wEAAAC6TZeF5Wzvcm7fk3RuVz02AAAA0BtYwQ8AAADw0V3DMACgT0smk1q9erVaW1t7+1L6jVgsppEjRyocDvf2pQDAbiMsA0AnVq9erfLycjU0NChb8Qd7wPM8bdq0SatXr9aYMWN6+3IAYLcxDAMAOtHa2qrq6mqCchdxzqm6upqeegB9DmEZAHwQlLsW/54A+iLCMgAAAOCDsAwAfUxDQ4M2bty40/l58+Zp7ty5vXBFANB/McEPAPqJGTNmaMaMGb19GQDQrxCWAWAXLly6VIu2b+/Sx5xSVqYrx437wPusXLlS06dP12GHHaaFCxdq/PjxuvXWWyVJV199tR544AElk0ndc8892m+//XTzzTdrwYIFuuaaa7r0WgFgIGMYBgAUsTfffFOzZ8/Wq6++qoqKCl133XWSpJqaGr388suaM2eOLr/88l6+SgDov+hZBoBd2FUPcHcaNWqUpk2bJkk644wzdNVVV0mSZs6cKUk6+OCDde+99/ba9QFAf0fPMgAUsY7l1nLH0WhUkhQMBpVKpXr8ugBgoCAsA0ARW7VqlZ577jlJ0l133aUjjjiil68IAAYWwjIAFLEJEybolltu0eTJk7V582bNmTOnty8JAAYUxiwDQBELBAL6zW9+0+7cypUr2/anTp2qJ598UpJ01lln6ayzzuq5iwOAAYCeZQAAAMAHYRkAilRDQ4P++c9/9vZlAMCARlgGAAAAfBCWAQAAAB+EZQAAAMAHYRkAAADwQVgGgD6moaFBGzdu3On8vHnzNHfuXEnSZZddphEjRmjKlCkaN26cZs6cqddff32Xj33llVequbm5y68ZAPoqwjIA9BMzZszQpZde2nZ80UUXadGiRVq6dKlmzZqlY445Ro2NjR/4GIRlAGiPRUkAYBeWXrhU2xdt79LHLJtSpnFXjvvA+6xcuVLTp0/XYYcdpoULF2r8+PG69dZbJUlXX321HnjgASWTSd1zzz3ab7/9dPPNN2vBggW65pprdnqsWbNm6cEHH9Sdd96pCy64QI8//rguvvhipVIpHXLIIbr++ut1ww03aM2aNTr66KNVU1Oj+fPnd+n3DAB9ET3LAFDE3nzzTc2ePVuvvvqqKioqdN1110mSampq9PLLL2vOnDm6/PLLd+uxDjroIL3xxhtqbW3VWWedpbvvvluLFy9WKpXS9ddfr/PPP1/Dhw/X/PnzCcoAkEXPMgDswq56gLvTqFGjNG3aNEnSGWecoauuukqSNHPmTEnSwQcfrHvvvXe3HsvzPEkWwMeMGaPx48dLks4880xde+21uvDCC7v68gGgz6NnGQCKmHOu0+NoNCpJCgaDSqVSu/VYCxcu1IQJE9pCMwBg1wjLAFDEVq1apeeee06SdNddd+mII474SI/zpz/9SY8++qhOP/107bffflq5cqWWLVsmSbrtttt01FFHSZLKy8vV1NTUNRcPAP0AYRkAitiECRN0yy23aPLkydq8ebPmzJmz2197xRVXtJWOu/322/XEE0+otrZWsVhMN910k774xS9q0qRJCgQC+s53viNJmj17tk444QQdffTR3fUtAUCf4orp47ipU6d6CxYs6PHnnXWD9drc/e1P9PhzAyhOS5Ys0YQJE3r1GlauXKmTTjpJ//znP3v1OrpSMfy7AigOvZ2/nHMveZ43dVf3o2cZAAAA8EFYBoAi1dDQ0K96lQGgLyIsAwAAAD6Kqs7yisYdbeNXetLra7dJUq88N4DidO6BJYo0du2qfZAam+K6jL+1ANR38hc9ywAAAIAPqmGo92djAig+VG3oHvy7Asjp7fxFNQwA6KcaGhq0cePGnc7PmzdPc+fOlSRddtllGjFiRFud5ZkzZ+r111/f5WNfeeWVam5ubvdckyZN0qRJkzRx4kT95Cc/UTwe/8DHWLlype68884P+V0BQHEiLANAPzFjxgxdeumlbccXXXSRFi1apKVLl2rWrFk65phj1NjY+IGP0TEsS9L8+fO1ePFivfDCC1qxYoVmz579gY9BWAbQnxTVBD8AKEYXXigtWtS1jzllinTllR98n5UrV2r69Ok67LDDtHDhQo0fP1633nqrJOnqq6/WAw88oGQyqXvuuUf77befbr75Zi1YsEDXXHPNTo81a9YsPfjgg7rzzjt1wQUX6PHHH9fFF1+sVCqlQw45RNdff71uuOEGrVmzRkcffbRqamo0f/78do9RVlam3/zmNxo1apQ2b96sqqoqXXLJJXr44YflnNNPfvITzZo1S5deeqmWLFmiKVOm6Mwzz9RFF13UZf9uANDT6FkGgCL25ptvavbs2Xr11VdVUVGh6667TpJUU1Ojl19+WXPmzNHll1++W4910EEH6Y033lBra6vOOuss3X333Vq8eLFSqZSuv/56nX/++Ro+fLjmz5+/U1DOqaio0JgxY7R06VLde++9WrRokV555RU99thj+sEPfqC1a9dq7ty5OvLII7Vo0SKCMoA+j55lANiFXfUAd6dRo0Zp2rRpkqQzzjhDV111lSRp5syZkqSDDz5Y99577249Vm5C95tvvqkxY8Zo/PjxkqQzzzxT1157rS688MIP9ThPP/20Tj/9dAWDQdXX1+uoo47Siy++qIqKit3/BgGgyNGzDABFzDnX6XE0GpUkBYNBpVKp3XqshQsXasKECdqTKkhNTU1auXKlxo8fv0ePAwB9BWEZAIrYqlWr9NxzVl7prrvu0hFHHPGRHudPf/qTHn30UZ1++unab7/9tHLlSi1btkySdNttt+moo46SJJWXl6upqanTx9i+fbvOOeccnXLKKaqqqtInP/lJ3X333Uqn02psbNRTTz2lQw899AMfAwD6GsIyABSxCRMm6JZbbtHkyZO1efNmzZkzZ7e/9oorrmgrHXf77bfriSf+f3v3FyLXWcZx/PtLd3UuCgpNINJtugF7YU12rcJS8RqLwqAAAATeSURBVKYbb7oSGoINxAu1ooSI0greiBcKvWsuGlBKG/80VREtVJEIFaG0UG8sllI1JQihpLhYcN2WVFGUwOPFju1mnLOZsMucszvfDwyc2fPOzsPw452HM+/M+yx79uyh1+tx9uxZjh07xsGDB9m1axcnT54E4MSJEywtLbG4uPj2/1lcXOTAgQMsLCywb98+zpw5A8DRo0eZm5tjfn6eQ4cOcerUKfbu3cvc3BxTU1PMz89z+vTprX1BJGnM3JSE9n8UW1L3dGHzjEuXLnH48GHOnz/fah1bqQuvq6RuaLv/clMSSZIkaZNsliWpo2ZnZ3fUVWVJ2o5sliWpQZeWqe0Evp6StiObZUkaotfrsbq6aoO3RaqK1dVVer1e26VI0nVxUxJJGmJmZobl5WVWVlbaLmXH6PV6zMzMtF2GJF0Xm2VJGmJ6epr9+/e3XYYkqWUuw5AkSZIa2CxLkiRJDWyWJUmSpAad2sEvyQrwWktPvxv4W0vPrZ3BDGmzzJC2gjnSZk1Khm6tqj3XGtSpZrlNSV4cZctDqYkZ0maZIW0Fc6TNMkNXcxmGJEmS1MBmWZIkSWpgs/yO77RdgLY9M6TNMkPaCuZIm2WG1nHNsiRJktTAK8uSJElSA5tlSZIkqcFENctJ7k7ypyQXk3xtyPl3J3myf/6FJLPjr1JdN0KO7kuykuTl/u0LbdSpbkryeJK/JjnfcD5JvtXP1x+SfHjcNar7RsjRXUkur5uHvjHuGtVtSW5J8lySC0leSfLAkDHOR0xQs5zkBuARYAm4HfhUktsHhn0eeLOq3g+cBh4ab5XquhFzBPBkVX2of/veWItU1z0B3L3B+SXgtv7tBPDoGGrS9vMEG+cI4Dfr5qEHx1CTtpcrwFer6gPAncCXhryfOR8xQc0ysABcrKpXq+o/wE+BIwNjjgA/6B8/BXw8ScZYo7pvlBxJjarqeeCNDYYcAX5Ya34LvDfJ+8ZTnbaLEXIkbaiqXq+ql/rHfwcuADcPDHM+YrKa5ZuBP6+7v8z/h+LtMVV1BbgM3DSW6rRdjJIjgE/2P7J6Kskt4ylNO8SoGZOu5aNJfp/kV0k+2HYx6q7+stM7gBcGTjkfMVnN8rArxIO/mzfKGE22UTLyS2C2quaAZ3jn0wppFM5D2govAbdW1TzwbeAXLdejjkpyI/Az4CtV9dbg6SEPmbj5aJKa5WVg/RW+GeAvTWOSTAHvwY+5dLVr5qiqVqvq3/273wU+MqbatDOMMldJG6qqt6rqH/3jp4HpJLtbLksdk2SatUb5x1X18yFDnI+YrGb5d8BtSfYneRdwHDg3MOYc8Nn+8b3As+WuLbraNXM0sJ7rHtbWgUmjOgd8pv8t9DuBy1X1ettFaXtJsvd/37lJssDa+/1qu1WpS/r5+D5woaoebhjmfARMtV3AuFTVlSRfBn4N3AA8XlWvJHkQeLGqzrEWmh8lucjaFeXj7VWsLhoxR/cnuYe1bxq/AdzXWsHqnCQ/Ae4CdidZBr4JTANU1WPA08AngIvAP4HPtVOpumyEHN0LfDHJFeBfwHEv/mjAx4BPA39M8nL/b18H9oHz0Xpudy1JkiQ1mKRlGJIkSdJ1sVmWJEmSGtgsS5IkSQ1sliVJkqQGNsuSJElSA5tlSZIkqYHNsiRJktTgv7smN9e6l2mwAAAAAElFTkSuQmCC\n",
          "text/plain": "<matplotlib.figure.Figure at 0x150fd8fc18>"
         },
         "metadata": {},
         "output_type": "display_data"
        }
       ]
      }
     },
     "e8d71c3fde404bb7a40c58aa8c7e81e8": {
      "model_module": "@jupyter-widgets/controls",
      "model_module_version": "1.1.0",
      "model_name": "FloatSliderModel",
      "state": {
       "description": "omega",
       "layout": "IPY_MODEL_563541719b274599b4ebb161f4f730b8",
       "max": 3.6,
       "min": 1.5,
       "step": 0.1,
       "style": "IPY_MODEL_ff1e48cb843944bd8b4982510b3ef32e",
       "value": 2.1
      }
     },
     "ebe45a28b07644c48c869c631031c327": {
      "model_module": "@jupyter-widgets/controls",
      "model_module_version": "1.1.0",
      "model_name": "VBoxModel",
      "state": {
       "_dom_classes": [
        "widget-interact"
       ],
       "children": [
        "IPY_MODEL_e8d71c3fde404bb7a40c58aa8c7e81e8",
        "IPY_MODEL_1392709ff3e24931adc52ba1d494381a",
        "IPY_MODEL_2dee85daa91840d090363af82bc1dee0",
        "IPY_MODEL_c5c93cb763304ff3aa2181270760c48b",
        "IPY_MODEL_d0ee32fc126a47ea92f1a1c57658dc1a"
       ],
       "layout": "IPY_MODEL_62c58cc70d8d4cbcbdb8098551eb17fb"
      }
     },
     "ef7636b8b9cf45eb8938d20a60657d48": {
      "model_module": "@jupyter-widgets/base",
      "model_module_version": "1.0.0",
      "model_name": "LayoutModel",
      "state": {}
     },
     "f468387663d54882ab4971df880ea2c0": {
      "model_module": "@jupyter-widgets/controls",
      "model_module_version": "1.1.0",
      "model_name": "FloatSliderModel",
      "state": {
       "description": "length",
       "layout": "IPY_MODEL_707e43c483e648468f1747fdbd53773c",
       "max": 10,
       "min": 0.5,
       "step": 0.1,
       "style": "IPY_MODEL_30a2e80c852242c9bafaef8fc5b50414",
       "value": 3
      }
     },
     "f8ce068fe2e249ccb10c46c096879481": {
      "model_module": "@jupyter-widgets/base",
      "model_module_version": "1.0.0",
      "model_name": "LayoutModel",
      "state": {}
     },
     "fa2e06a61c9a437dbefbe9120491ee4b": {
      "model_module": "@jupyter-widgets/base",
      "model_module_version": "1.0.0",
      "model_name": "LayoutModel",
      "state": {}
     },
     "ff1e48cb843944bd8b4982510b3ef32e": {
      "model_module": "@jupyter-widgets/controls",
      "model_module_version": "1.1.0",
      "model_name": "SliderStyleModel",
      "state": {
       "description_width": ""
      }
     }
    },
    "version_major": 2,
    "version_minor": 0
   }
  }
 },
 "nbformat": 4,
 "nbformat_minor": 2
}
